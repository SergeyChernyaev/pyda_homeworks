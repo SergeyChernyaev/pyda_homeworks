{
  "nbformat": 4,
  "nbformat_minor": 0,
  "metadata": {
    "colab": {
      "provenance": [],
      "include_colab_link": true
    },
    "kernelspec": {
      "display_name": "Python 3",
      "language": "python",
      "name": "python3"
    },
    "language_info": {
      "codemirror_mode": {
        "name": "ipython",
        "version": 3
      },
      "file_extension": ".py",
      "mimetype": "text/x-python",
      "name": "python",
      "nbconvert_exporter": "python",
      "pygments_lexer": "ipython3",
      "version": "3.8.3"
    }
  },
  "cells": [
    {
      "cell_type": "markdown",
      "metadata": {
        "id": "view-in-github",
        "colab_type": "text"
      },
      "source": [
        "<a href=\"https://colab.research.google.com/github/SergeyChernyaev/pyda_homeworks/blob/master/netology_clas_clust.ipynb\" target=\"_parent\"><img src=\"https://colab.research.google.com/assets/colab-badge.svg\" alt=\"Open In Colab\"/></a>"
      ]
    },
    {
      "cell_type": "markdown",
      "metadata": {
        "id": "nXOA4pGqoi7p"
      },
      "source": [
        "# Задачи классификации и кластеризации\n",
        "\n",
        "Булыгин Олег:  \n",
        "* [LinkedIn](linkedin.com/in/obulygin)  \n",
        "* [Мой канал в ТГ по Python](https://t.me/pythontalk_ru)\n",
        "* [Чат канала](https://t.me/pythontalk_chat)\n",
        "* [Блог в Телетайпе](https://teletype.in/@pythontalk)\n",
        "* [PythonTalk на Кью](https://yandex.ru/q/loves/pythontalk/)"
      ]
    },
    {
      "cell_type": "code",
      "metadata": {
        "id": "-ppToJrUWoJ0"
      },
      "source": [
        "from sklearn.datasets import load_wine\n",
        "import pandas as pd\n",
        "import numpy as np\n",
        "import matplotlib.pyplot as plt"
      ],
      "execution_count": null,
      "outputs": []
    },
    {
      "cell_type": "code",
      "metadata": {
        "id": "cmLC9M6oW2v8"
      },
      "source": [
        "wine = load_wine()"
      ],
      "execution_count": null,
      "outputs": []
    },
    {
      "cell_type": "code",
      "metadata": {
        "id": "7eptbMYNvq0S",
        "colab": {
          "base_uri": "https://localhost:8080/"
        },
        "outputId": "36cc4ed6-4a53-4d23-df05-6b206c77c76b"
      },
      "source": [
        "print(wine.DESCR)"
      ],
      "execution_count": null,
      "outputs": [
        {
          "output_type": "stream",
          "name": "stdout",
          "text": [
            ".. _wine_dataset:\n",
            "\n",
            "Wine recognition dataset\n",
            "------------------------\n",
            "\n",
            "**Data Set Characteristics:**\n",
            "\n",
            "    :Number of Instances: 178 (50 in each of three classes)\n",
            "    :Number of Attributes: 13 numeric, predictive attributes and the class\n",
            "    :Attribute Information:\n",
            " \t\t- Alcohol\n",
            " \t\t- Malic acid\n",
            " \t\t- Ash\n",
            "\t\t- Alcalinity of ash  \n",
            " \t\t- Magnesium\n",
            "\t\t- Total phenols\n",
            " \t\t- Flavanoids\n",
            " \t\t- Nonflavanoid phenols\n",
            " \t\t- Proanthocyanins\n",
            "\t\t- Color intensity\n",
            " \t\t- Hue\n",
            " \t\t- OD280/OD315 of diluted wines\n",
            " \t\t- Proline\n",
            "\n",
            "    - class:\n",
            "            - class_0\n",
            "            - class_1\n",
            "            - class_2\n",
            "\t\t\n",
            "    :Summary Statistics:\n",
            "    \n",
            "    ============================= ==== ===== ======= =====\n",
            "                                   Min   Max   Mean     SD\n",
            "    ============================= ==== ===== ======= =====\n",
            "    Alcohol:                      11.0  14.8    13.0   0.8\n",
            "    Malic Acid:                   0.74  5.80    2.34  1.12\n",
            "    Ash:                          1.36  3.23    2.36  0.27\n",
            "    Alcalinity of Ash:            10.6  30.0    19.5   3.3\n",
            "    Magnesium:                    70.0 162.0    99.7  14.3\n",
            "    Total Phenols:                0.98  3.88    2.29  0.63\n",
            "    Flavanoids:                   0.34  5.08    2.03  1.00\n",
            "    Nonflavanoid Phenols:         0.13  0.66    0.36  0.12\n",
            "    Proanthocyanins:              0.41  3.58    1.59  0.57\n",
            "    Colour Intensity:              1.3  13.0     5.1   2.3\n",
            "    Hue:                          0.48  1.71    0.96  0.23\n",
            "    OD280/OD315 of diluted wines: 1.27  4.00    2.61  0.71\n",
            "    Proline:                       278  1680     746   315\n",
            "    ============================= ==== ===== ======= =====\n",
            "\n",
            "    :Missing Attribute Values: None\n",
            "    :Class Distribution: class_0 (59), class_1 (71), class_2 (48)\n",
            "    :Creator: R.A. Fisher\n",
            "    :Donor: Michael Marshall (MARSHALL%PLU@io.arc.nasa.gov)\n",
            "    :Date: July, 1988\n",
            "\n",
            "This is a copy of UCI ML Wine recognition datasets.\n",
            "https://archive.ics.uci.edu/ml/machine-learning-databases/wine/wine.data\n",
            "\n",
            "The data is the results of a chemical analysis of wines grown in the same\n",
            "region in Italy by three different cultivators. There are thirteen different\n",
            "measurements taken for different constituents found in the three types of\n",
            "wine.\n",
            "\n",
            "Original Owners: \n",
            "\n",
            "Forina, M. et al, PARVUS - \n",
            "An Extendible Package for Data Exploration, Classification and Correlation. \n",
            "Institute of Pharmaceutical and Food Analysis and Technologies,\n",
            "Via Brigata Salerno, 16147 Genoa, Italy.\n",
            "\n",
            "Citation:\n",
            "\n",
            "Lichman, M. (2013). UCI Machine Learning Repository\n",
            "[https://archive.ics.uci.edu/ml]. Irvine, CA: University of California,\n",
            "School of Information and Computer Science. \n",
            "\n",
            ".. topic:: References\n",
            "\n",
            "  (1) S. Aeberhard, D. Coomans and O. de Vel, \n",
            "  Comparison of Classifiers in High Dimensional Settings, \n",
            "  Tech. Rep. no. 92-02, (1992), Dept. of Computer Science and Dept. of  \n",
            "  Mathematics and Statistics, James Cook University of North Queensland. \n",
            "  (Also submitted to Technometrics). \n",
            "\n",
            "  The data was used with many others for comparing various \n",
            "  classifiers. The classes are separable, though only RDA \n",
            "  has achieved 100% correct classification. \n",
            "  (RDA : 100%, QDA 99.4%, LDA 98.9%, 1NN 96.1% (z-transformed data)) \n",
            "  (All results using the leave-one-out technique) \n",
            "\n",
            "  (2) S. Aeberhard, D. Coomans and O. de Vel, \n",
            "  \"THE CLASSIFICATION PERFORMANCE OF RDA\" \n",
            "  Tech. Rep. no. 92-01, (1992), Dept. of Computer Science and Dept. of \n",
            "  Mathematics and Statistics, James Cook University of North Queensland. \n",
            "  (Also submitted to Journal of Chemometrics).\n",
            "\n"
          ]
        }
      ]
    },
    {
      "cell_type": "code",
      "metadata": {
        "id": "7rO21IhnvyIo"
      },
      "source": [
        "# загружаем данные в датафрейм\n",
        "data = pd.DataFrame(wine.data, columns=wine.feature_names)\n",
        "data_class = wine.target"
      ],
      "execution_count": null,
      "outputs": []
    },
    {
      "cell_type": "code",
      "metadata": {
        "id": "M92y_fa2wBjn",
        "colab": {
          "base_uri": "https://localhost:8080/",
          "height": 468
        },
        "outputId": "628bc93b-eb70-46c3-b2b1-2506f46f693a"
      },
      "source": [
        "data"
      ],
      "execution_count": null,
      "outputs": [
        {
          "output_type": "execute_result",
          "data": {
            "text/plain": [
              "     alcohol  malic_acid   ash  alcalinity_of_ash  magnesium  total_phenols  \\\n",
              "0      14.23        1.71  2.43               15.6      127.0           2.80   \n",
              "1      13.20        1.78  2.14               11.2      100.0           2.65   \n",
              "2      13.16        2.36  2.67               18.6      101.0           2.80   \n",
              "3      14.37        1.95  2.50               16.8      113.0           3.85   \n",
              "4      13.24        2.59  2.87               21.0      118.0           2.80   \n",
              "..       ...         ...   ...                ...        ...            ...   \n",
              "173    13.71        5.65  2.45               20.5       95.0           1.68   \n",
              "174    13.40        3.91  2.48               23.0      102.0           1.80   \n",
              "175    13.27        4.28  2.26               20.0      120.0           1.59   \n",
              "176    13.17        2.59  2.37               20.0      120.0           1.65   \n",
              "177    14.13        4.10  2.74               24.5       96.0           2.05   \n",
              "\n",
              "     flavanoids  nonflavanoid_phenols  proanthocyanins  color_intensity   hue  \\\n",
              "0          3.06                  0.28             2.29             5.64  1.04   \n",
              "1          2.76                  0.26             1.28             4.38  1.05   \n",
              "2          3.24                  0.30             2.81             5.68  1.03   \n",
              "3          3.49                  0.24             2.18             7.80  0.86   \n",
              "4          2.69                  0.39             1.82             4.32  1.04   \n",
              "..          ...                   ...              ...              ...   ...   \n",
              "173        0.61                  0.52             1.06             7.70  0.64   \n",
              "174        0.75                  0.43             1.41             7.30  0.70   \n",
              "175        0.69                  0.43             1.35            10.20  0.59   \n",
              "176        0.68                  0.53             1.46             9.30  0.60   \n",
              "177        0.76                  0.56             1.35             9.20  0.61   \n",
              "\n",
              "     od280/od315_of_diluted_wines  proline  \n",
              "0                            3.92   1065.0  \n",
              "1                            3.40   1050.0  \n",
              "2                            3.17   1185.0  \n",
              "3                            3.45   1480.0  \n",
              "4                            2.93    735.0  \n",
              "..                            ...      ...  \n",
              "173                          1.74    740.0  \n",
              "174                          1.56    750.0  \n",
              "175                          1.56    835.0  \n",
              "176                          1.62    840.0  \n",
              "177                          1.60    560.0  \n",
              "\n",
              "[178 rows x 13 columns]"
            ],
            "text/html": [
              "\n",
              "  <div id=\"df-214df13e-7110-4395-86ac-1a3c2e8ed4f6\">\n",
              "    <div class=\"colab-df-container\">\n",
              "      <div>\n",
              "<style scoped>\n",
              "    .dataframe tbody tr th:only-of-type {\n",
              "        vertical-align: middle;\n",
              "    }\n",
              "\n",
              "    .dataframe tbody tr th {\n",
              "        vertical-align: top;\n",
              "    }\n",
              "\n",
              "    .dataframe thead th {\n",
              "        text-align: right;\n",
              "    }\n",
              "</style>\n",
              "<table border=\"1\" class=\"dataframe\">\n",
              "  <thead>\n",
              "    <tr style=\"text-align: right;\">\n",
              "      <th></th>\n",
              "      <th>alcohol</th>\n",
              "      <th>malic_acid</th>\n",
              "      <th>ash</th>\n",
              "      <th>alcalinity_of_ash</th>\n",
              "      <th>magnesium</th>\n",
              "      <th>total_phenols</th>\n",
              "      <th>flavanoids</th>\n",
              "      <th>nonflavanoid_phenols</th>\n",
              "      <th>proanthocyanins</th>\n",
              "      <th>color_intensity</th>\n",
              "      <th>hue</th>\n",
              "      <th>od280/od315_of_diluted_wines</th>\n",
              "      <th>proline</th>\n",
              "    </tr>\n",
              "  </thead>\n",
              "  <tbody>\n",
              "    <tr>\n",
              "      <th>0</th>\n",
              "      <td>14.23</td>\n",
              "      <td>1.71</td>\n",
              "      <td>2.43</td>\n",
              "      <td>15.6</td>\n",
              "      <td>127.0</td>\n",
              "      <td>2.80</td>\n",
              "      <td>3.06</td>\n",
              "      <td>0.28</td>\n",
              "      <td>2.29</td>\n",
              "      <td>5.64</td>\n",
              "      <td>1.04</td>\n",
              "      <td>3.92</td>\n",
              "      <td>1065.0</td>\n",
              "    </tr>\n",
              "    <tr>\n",
              "      <th>1</th>\n",
              "      <td>13.20</td>\n",
              "      <td>1.78</td>\n",
              "      <td>2.14</td>\n",
              "      <td>11.2</td>\n",
              "      <td>100.0</td>\n",
              "      <td>2.65</td>\n",
              "      <td>2.76</td>\n",
              "      <td>0.26</td>\n",
              "      <td>1.28</td>\n",
              "      <td>4.38</td>\n",
              "      <td>1.05</td>\n",
              "      <td>3.40</td>\n",
              "      <td>1050.0</td>\n",
              "    </tr>\n",
              "    <tr>\n",
              "      <th>2</th>\n",
              "      <td>13.16</td>\n",
              "      <td>2.36</td>\n",
              "      <td>2.67</td>\n",
              "      <td>18.6</td>\n",
              "      <td>101.0</td>\n",
              "      <td>2.80</td>\n",
              "      <td>3.24</td>\n",
              "      <td>0.30</td>\n",
              "      <td>2.81</td>\n",
              "      <td>5.68</td>\n",
              "      <td>1.03</td>\n",
              "      <td>3.17</td>\n",
              "      <td>1185.0</td>\n",
              "    </tr>\n",
              "    <tr>\n",
              "      <th>3</th>\n",
              "      <td>14.37</td>\n",
              "      <td>1.95</td>\n",
              "      <td>2.50</td>\n",
              "      <td>16.8</td>\n",
              "      <td>113.0</td>\n",
              "      <td>3.85</td>\n",
              "      <td>3.49</td>\n",
              "      <td>0.24</td>\n",
              "      <td>2.18</td>\n",
              "      <td>7.80</td>\n",
              "      <td>0.86</td>\n",
              "      <td>3.45</td>\n",
              "      <td>1480.0</td>\n",
              "    </tr>\n",
              "    <tr>\n",
              "      <th>4</th>\n",
              "      <td>13.24</td>\n",
              "      <td>2.59</td>\n",
              "      <td>2.87</td>\n",
              "      <td>21.0</td>\n",
              "      <td>118.0</td>\n",
              "      <td>2.80</td>\n",
              "      <td>2.69</td>\n",
              "      <td>0.39</td>\n",
              "      <td>1.82</td>\n",
              "      <td>4.32</td>\n",
              "      <td>1.04</td>\n",
              "      <td>2.93</td>\n",
              "      <td>735.0</td>\n",
              "    </tr>\n",
              "    <tr>\n",
              "      <th>...</th>\n",
              "      <td>...</td>\n",
              "      <td>...</td>\n",
              "      <td>...</td>\n",
              "      <td>...</td>\n",
              "      <td>...</td>\n",
              "      <td>...</td>\n",
              "      <td>...</td>\n",
              "      <td>...</td>\n",
              "      <td>...</td>\n",
              "      <td>...</td>\n",
              "      <td>...</td>\n",
              "      <td>...</td>\n",
              "      <td>...</td>\n",
              "    </tr>\n",
              "    <tr>\n",
              "      <th>173</th>\n",
              "      <td>13.71</td>\n",
              "      <td>5.65</td>\n",
              "      <td>2.45</td>\n",
              "      <td>20.5</td>\n",
              "      <td>95.0</td>\n",
              "      <td>1.68</td>\n",
              "      <td>0.61</td>\n",
              "      <td>0.52</td>\n",
              "      <td>1.06</td>\n",
              "      <td>7.70</td>\n",
              "      <td>0.64</td>\n",
              "      <td>1.74</td>\n",
              "      <td>740.0</td>\n",
              "    </tr>\n",
              "    <tr>\n",
              "      <th>174</th>\n",
              "      <td>13.40</td>\n",
              "      <td>3.91</td>\n",
              "      <td>2.48</td>\n",
              "      <td>23.0</td>\n",
              "      <td>102.0</td>\n",
              "      <td>1.80</td>\n",
              "      <td>0.75</td>\n",
              "      <td>0.43</td>\n",
              "      <td>1.41</td>\n",
              "      <td>7.30</td>\n",
              "      <td>0.70</td>\n",
              "      <td>1.56</td>\n",
              "      <td>750.0</td>\n",
              "    </tr>\n",
              "    <tr>\n",
              "      <th>175</th>\n",
              "      <td>13.27</td>\n",
              "      <td>4.28</td>\n",
              "      <td>2.26</td>\n",
              "      <td>20.0</td>\n",
              "      <td>120.0</td>\n",
              "      <td>1.59</td>\n",
              "      <td>0.69</td>\n",
              "      <td>0.43</td>\n",
              "      <td>1.35</td>\n",
              "      <td>10.20</td>\n",
              "      <td>0.59</td>\n",
              "      <td>1.56</td>\n",
              "      <td>835.0</td>\n",
              "    </tr>\n",
              "    <tr>\n",
              "      <th>176</th>\n",
              "      <td>13.17</td>\n",
              "      <td>2.59</td>\n",
              "      <td>2.37</td>\n",
              "      <td>20.0</td>\n",
              "      <td>120.0</td>\n",
              "      <td>1.65</td>\n",
              "      <td>0.68</td>\n",
              "      <td>0.53</td>\n",
              "      <td>1.46</td>\n",
              "      <td>9.30</td>\n",
              "      <td>0.60</td>\n",
              "      <td>1.62</td>\n",
              "      <td>840.0</td>\n",
              "    </tr>\n",
              "    <tr>\n",
              "      <th>177</th>\n",
              "      <td>14.13</td>\n",
              "      <td>4.10</td>\n",
              "      <td>2.74</td>\n",
              "      <td>24.5</td>\n",
              "      <td>96.0</td>\n",
              "      <td>2.05</td>\n",
              "      <td>0.76</td>\n",
              "      <td>0.56</td>\n",
              "      <td>1.35</td>\n",
              "      <td>9.20</td>\n",
              "      <td>0.61</td>\n",
              "      <td>1.60</td>\n",
              "      <td>560.0</td>\n",
              "    </tr>\n",
              "  </tbody>\n",
              "</table>\n",
              "<p>178 rows × 13 columns</p>\n",
              "</div>\n",
              "      <button class=\"colab-df-convert\" onclick=\"convertToInteractive('df-214df13e-7110-4395-86ac-1a3c2e8ed4f6')\"\n",
              "              title=\"Convert this dataframe to an interactive table.\"\n",
              "              style=\"display:none;\">\n",
              "        \n",
              "  <svg xmlns=\"http://www.w3.org/2000/svg\" height=\"24px\"viewBox=\"0 0 24 24\"\n",
              "       width=\"24px\">\n",
              "    <path d=\"M0 0h24v24H0V0z\" fill=\"none\"/>\n",
              "    <path d=\"M18.56 5.44l.94 2.06.94-2.06 2.06-.94-2.06-.94-.94-2.06-.94 2.06-2.06.94zm-11 1L8.5 8.5l.94-2.06 2.06-.94-2.06-.94L8.5 2.5l-.94 2.06-2.06.94zm10 10l.94 2.06.94-2.06 2.06-.94-2.06-.94-.94-2.06-.94 2.06-2.06.94z\"/><path d=\"M17.41 7.96l-1.37-1.37c-.4-.4-.92-.59-1.43-.59-.52 0-1.04.2-1.43.59L10.3 9.45l-7.72 7.72c-.78.78-.78 2.05 0 2.83L4 21.41c.39.39.9.59 1.41.59.51 0 1.02-.2 1.41-.59l7.78-7.78 2.81-2.81c.8-.78.8-2.07 0-2.86zM5.41 20L4 18.59l7.72-7.72 1.47 1.35L5.41 20z\"/>\n",
              "  </svg>\n",
              "      </button>\n",
              "      \n",
              "  <style>\n",
              "    .colab-df-container {\n",
              "      display:flex;\n",
              "      flex-wrap:wrap;\n",
              "      gap: 12px;\n",
              "    }\n",
              "\n",
              "    .colab-df-convert {\n",
              "      background-color: #E8F0FE;\n",
              "      border: none;\n",
              "      border-radius: 50%;\n",
              "      cursor: pointer;\n",
              "      display: none;\n",
              "      fill: #1967D2;\n",
              "      height: 32px;\n",
              "      padding: 0 0 0 0;\n",
              "      width: 32px;\n",
              "    }\n",
              "\n",
              "    .colab-df-convert:hover {\n",
              "      background-color: #E2EBFA;\n",
              "      box-shadow: 0px 1px 2px rgba(60, 64, 67, 0.3), 0px 1px 3px 1px rgba(60, 64, 67, 0.15);\n",
              "      fill: #174EA6;\n",
              "    }\n",
              "\n",
              "    [theme=dark] .colab-df-convert {\n",
              "      background-color: #3B4455;\n",
              "      fill: #D2E3FC;\n",
              "    }\n",
              "\n",
              "    [theme=dark] .colab-df-convert:hover {\n",
              "      background-color: #434B5C;\n",
              "      box-shadow: 0px 1px 3px 1px rgba(0, 0, 0, 0.15);\n",
              "      filter: drop-shadow(0px 1px 2px rgba(0, 0, 0, 0.3));\n",
              "      fill: #FFFFFF;\n",
              "    }\n",
              "  </style>\n",
              "\n",
              "      <script>\n",
              "        const buttonEl =\n",
              "          document.querySelector('#df-214df13e-7110-4395-86ac-1a3c2e8ed4f6 button.colab-df-convert');\n",
              "        buttonEl.style.display =\n",
              "          google.colab.kernel.accessAllowed ? 'block' : 'none';\n",
              "\n",
              "        async function convertToInteractive(key) {\n",
              "          const element = document.querySelector('#df-214df13e-7110-4395-86ac-1a3c2e8ed4f6');\n",
              "          const dataTable =\n",
              "            await google.colab.kernel.invokeFunction('convertToInteractive',\n",
              "                                                     [key], {});\n",
              "          if (!dataTable) return;\n",
              "\n",
              "          const docLinkHtml = 'Like what you see? Visit the ' +\n",
              "            '<a target=\"_blank\" href=https://colab.research.google.com/notebooks/data_table.ipynb>data table notebook</a>'\n",
              "            + ' to learn more about interactive tables.';\n",
              "          element.innerHTML = '';\n",
              "          dataTable['output_type'] = 'display_data';\n",
              "          await google.colab.output.renderOutput(dataTable, element);\n",
              "          const docLink = document.createElement('div');\n",
              "          docLink.innerHTML = docLinkHtml;\n",
              "          element.appendChild(docLink);\n",
              "        }\n",
              "      </script>\n",
              "    </div>\n",
              "  </div>\n",
              "  "
            ]
          },
          "metadata": {},
          "execution_count": 5
        }
      ]
    },
    {
      "cell_type": "code",
      "metadata": {
        "id": "4u8TEZjzby45",
        "colab": {
          "base_uri": "https://localhost:8080/"
        },
        "outputId": "6987284a-7642-4431-c519-024ec2e2fef4"
      },
      "source": [
        "data_class"
      ],
      "execution_count": null,
      "outputs": [
        {
          "output_type": "execute_result",
          "data": {
            "text/plain": [
              "array([0, 0, 0, 0, 0, 0, 0, 0, 0, 0, 0, 0, 0, 0, 0, 0, 0, 0, 0, 0, 0, 0,\n",
              "       0, 0, 0, 0, 0, 0, 0, 0, 0, 0, 0, 0, 0, 0, 0, 0, 0, 0, 0, 0, 0, 0,\n",
              "       0, 0, 0, 0, 0, 0, 0, 0, 0, 0, 0, 0, 0, 0, 0, 1, 1, 1, 1, 1, 1, 1,\n",
              "       1, 1, 1, 1, 1, 1, 1, 1, 1, 1, 1, 1, 1, 1, 1, 1, 1, 1, 1, 1, 1, 1,\n",
              "       1, 1, 1, 1, 1, 1, 1, 1, 1, 1, 1, 1, 1, 1, 1, 1, 1, 1, 1, 1, 1, 1,\n",
              "       1, 1, 1, 1, 1, 1, 1, 1, 1, 1, 1, 1, 1, 1, 1, 1, 1, 1, 1, 1, 2, 2,\n",
              "       2, 2, 2, 2, 2, 2, 2, 2, 2, 2, 2, 2, 2, 2, 2, 2, 2, 2, 2, 2, 2, 2,\n",
              "       2, 2, 2, 2, 2, 2, 2, 2, 2, 2, 2, 2, 2, 2, 2, 2, 2, 2, 2, 2, 2, 2,\n",
              "       2, 2])"
            ]
          },
          "metadata": {},
          "execution_count": 6
        }
      ]
    },
    {
      "cell_type": "code",
      "metadata": {
        "id": "lFjqjX-iwCaW"
      },
      "source": [
        "# разделяем выборку на тренировочную и тестовую\n",
        "from sklearn.model_selection import train_test_split\n",
        "X_train, X_test, y_train, y_test = train_test_split(data, data_class, random_state=42)"
      ],
      "execution_count": null,
      "outputs": []
    },
    {
      "cell_type": "code",
      "metadata": {
        "id": "ygkZ_ffYby48"
      },
      "source": [
        "len(y_test)"
      ],
      "execution_count": null,
      "outputs": []
    },
    {
      "cell_type": "code",
      "metadata": {
        "id": "6HINhvLtwdZT"
      },
      "source": [
        "# импортируем LDA-функционал\n",
        "from sklearn.discriminant_analysis import LinearDiscriminantAnalysis"
      ],
      "execution_count": null,
      "outputs": []
    },
    {
      "cell_type": "code",
      "metadata": {
        "id": "0Us8oVotwku1"
      },
      "source": [
        "lda = LinearDiscriminantAnalysis()"
      ],
      "execution_count": null,
      "outputs": []
    },
    {
      "cell_type": "code",
      "metadata": {
        "id": "h5Ufc5sjwnZ3",
        "colab": {
          "base_uri": "https://localhost:8080/"
        },
        "outputId": "55d01e33-66c5-4548-8857-77e2d846ff25"
      },
      "source": [
        "# обучаем данные\n",
        "lda.fit(X_train, y_train)"
      ],
      "execution_count": null,
      "outputs": [
        {
          "output_type": "execute_result",
          "data": {
            "text/plain": [
              "LinearDiscriminantAnalysis()"
            ]
          },
          "metadata": {},
          "execution_count": 10
        }
      ]
    },
    {
      "cell_type": "code",
      "metadata": {
        "id": "bcZ3H-T1xSWu",
        "colab": {
          "base_uri": "https://localhost:8080/"
        },
        "outputId": "45b1991a-dc88-436e-de93-41aefd46d7af"
      },
      "source": [
        "# делаем прогноз на тестовой выборке\n",
        "lda.predict(X_test)"
      ],
      "execution_count": null,
      "outputs": [
        {
          "output_type": "execute_result",
          "data": {
            "text/plain": [
              "array([0, 0, 2, 0, 1, 0, 1, 2, 1, 2, 0, 2, 0, 1, 0, 1, 1, 1, 0, 1, 0, 1,\n",
              "       1, 2, 2, 2, 1, 1, 1, 0, 0, 1, 2, 0, 0, 0, 2, 2, 1, 2, 0, 1, 1, 1,\n",
              "       2])"
            ]
          },
          "metadata": {},
          "execution_count": 11
        }
      ]
    },
    {
      "cell_type": "code",
      "metadata": {
        "id": "9wGodM6OxUds"
      },
      "source": [
        "# смотрим разницу факта и прогноза\n",
        "result = pd.DataFrame([y_test, lda.predict(X_test)]).T"
      ],
      "execution_count": null,
      "outputs": []
    },
    {
      "cell_type": "code",
      "metadata": {
        "id": "RK4zDP6ZxaXI",
        "colab": {
          "base_uri": "https://localhost:8080/",
          "height": 1000
        },
        "outputId": "b77d4ce2-63f9-4bb2-9456-223a3f6697de"
      },
      "source": [
        "result"
      ],
      "execution_count": null,
      "outputs": [
        {
          "output_type": "execute_result",
          "data": {
            "text/plain": [
              "    0  1\n",
              "0   0  0\n",
              "1   0  0\n",
              "2   2  2\n",
              "3   0  0\n",
              "4   1  1\n",
              "5   0  0\n",
              "6   1  1\n",
              "7   2  2\n",
              "8   1  1\n",
              "9   2  2\n",
              "10  0  0\n",
              "11  2  2\n",
              "12  0  0\n",
              "13  1  1\n",
              "14  0  0\n",
              "15  1  1\n",
              "16  1  1\n",
              "17  1  1\n",
              "18  0  0\n",
              "19  1  1\n",
              "20  0  0\n",
              "21  1  1\n",
              "22  1  1\n",
              "23  2  2\n",
              "24  2  2\n",
              "25  2  2\n",
              "26  1  1\n",
              "27  1  1\n",
              "28  1  1\n",
              "29  0  0\n",
              "30  0  0\n",
              "31  1  1\n",
              "32  2  2\n",
              "33  0  0\n",
              "34  0  0\n",
              "35  0  0\n",
              "36  2  2\n",
              "37  2  2\n",
              "38  1  1\n",
              "39  2  2\n",
              "40  0  0\n",
              "41  1  1\n",
              "42  1  1\n",
              "43  1  1\n",
              "44  2  2"
            ],
            "text/html": [
              "\n",
              "  <div id=\"df-0f8b50ae-2c4d-4e71-b739-83c460668d0e\">\n",
              "    <div class=\"colab-df-container\">\n",
              "      <div>\n",
              "<style scoped>\n",
              "    .dataframe tbody tr th:only-of-type {\n",
              "        vertical-align: middle;\n",
              "    }\n",
              "\n",
              "    .dataframe tbody tr th {\n",
              "        vertical-align: top;\n",
              "    }\n",
              "\n",
              "    .dataframe thead th {\n",
              "        text-align: right;\n",
              "    }\n",
              "</style>\n",
              "<table border=\"1\" class=\"dataframe\">\n",
              "  <thead>\n",
              "    <tr style=\"text-align: right;\">\n",
              "      <th></th>\n",
              "      <th>0</th>\n",
              "      <th>1</th>\n",
              "    </tr>\n",
              "  </thead>\n",
              "  <tbody>\n",
              "    <tr>\n",
              "      <th>0</th>\n",
              "      <td>0</td>\n",
              "      <td>0</td>\n",
              "    </tr>\n",
              "    <tr>\n",
              "      <th>1</th>\n",
              "      <td>0</td>\n",
              "      <td>0</td>\n",
              "    </tr>\n",
              "    <tr>\n",
              "      <th>2</th>\n",
              "      <td>2</td>\n",
              "      <td>2</td>\n",
              "    </tr>\n",
              "    <tr>\n",
              "      <th>3</th>\n",
              "      <td>0</td>\n",
              "      <td>0</td>\n",
              "    </tr>\n",
              "    <tr>\n",
              "      <th>4</th>\n",
              "      <td>1</td>\n",
              "      <td>1</td>\n",
              "    </tr>\n",
              "    <tr>\n",
              "      <th>5</th>\n",
              "      <td>0</td>\n",
              "      <td>0</td>\n",
              "    </tr>\n",
              "    <tr>\n",
              "      <th>6</th>\n",
              "      <td>1</td>\n",
              "      <td>1</td>\n",
              "    </tr>\n",
              "    <tr>\n",
              "      <th>7</th>\n",
              "      <td>2</td>\n",
              "      <td>2</td>\n",
              "    </tr>\n",
              "    <tr>\n",
              "      <th>8</th>\n",
              "      <td>1</td>\n",
              "      <td>1</td>\n",
              "    </tr>\n",
              "    <tr>\n",
              "      <th>9</th>\n",
              "      <td>2</td>\n",
              "      <td>2</td>\n",
              "    </tr>\n",
              "    <tr>\n",
              "      <th>10</th>\n",
              "      <td>0</td>\n",
              "      <td>0</td>\n",
              "    </tr>\n",
              "    <tr>\n",
              "      <th>11</th>\n",
              "      <td>2</td>\n",
              "      <td>2</td>\n",
              "    </tr>\n",
              "    <tr>\n",
              "      <th>12</th>\n",
              "      <td>0</td>\n",
              "      <td>0</td>\n",
              "    </tr>\n",
              "    <tr>\n",
              "      <th>13</th>\n",
              "      <td>1</td>\n",
              "      <td>1</td>\n",
              "    </tr>\n",
              "    <tr>\n",
              "      <th>14</th>\n",
              "      <td>0</td>\n",
              "      <td>0</td>\n",
              "    </tr>\n",
              "    <tr>\n",
              "      <th>15</th>\n",
              "      <td>1</td>\n",
              "      <td>1</td>\n",
              "    </tr>\n",
              "    <tr>\n",
              "      <th>16</th>\n",
              "      <td>1</td>\n",
              "      <td>1</td>\n",
              "    </tr>\n",
              "    <tr>\n",
              "      <th>17</th>\n",
              "      <td>1</td>\n",
              "      <td>1</td>\n",
              "    </tr>\n",
              "    <tr>\n",
              "      <th>18</th>\n",
              "      <td>0</td>\n",
              "      <td>0</td>\n",
              "    </tr>\n",
              "    <tr>\n",
              "      <th>19</th>\n",
              "      <td>1</td>\n",
              "      <td>1</td>\n",
              "    </tr>\n",
              "    <tr>\n",
              "      <th>20</th>\n",
              "      <td>0</td>\n",
              "      <td>0</td>\n",
              "    </tr>\n",
              "    <tr>\n",
              "      <th>21</th>\n",
              "      <td>1</td>\n",
              "      <td>1</td>\n",
              "    </tr>\n",
              "    <tr>\n",
              "      <th>22</th>\n",
              "      <td>1</td>\n",
              "      <td>1</td>\n",
              "    </tr>\n",
              "    <tr>\n",
              "      <th>23</th>\n",
              "      <td>2</td>\n",
              "      <td>2</td>\n",
              "    </tr>\n",
              "    <tr>\n",
              "      <th>24</th>\n",
              "      <td>2</td>\n",
              "      <td>2</td>\n",
              "    </tr>\n",
              "    <tr>\n",
              "      <th>25</th>\n",
              "      <td>2</td>\n",
              "      <td>2</td>\n",
              "    </tr>\n",
              "    <tr>\n",
              "      <th>26</th>\n",
              "      <td>1</td>\n",
              "      <td>1</td>\n",
              "    </tr>\n",
              "    <tr>\n",
              "      <th>27</th>\n",
              "      <td>1</td>\n",
              "      <td>1</td>\n",
              "    </tr>\n",
              "    <tr>\n",
              "      <th>28</th>\n",
              "      <td>1</td>\n",
              "      <td>1</td>\n",
              "    </tr>\n",
              "    <tr>\n",
              "      <th>29</th>\n",
              "      <td>0</td>\n",
              "      <td>0</td>\n",
              "    </tr>\n",
              "    <tr>\n",
              "      <th>30</th>\n",
              "      <td>0</td>\n",
              "      <td>0</td>\n",
              "    </tr>\n",
              "    <tr>\n",
              "      <th>31</th>\n",
              "      <td>1</td>\n",
              "      <td>1</td>\n",
              "    </tr>\n",
              "    <tr>\n",
              "      <th>32</th>\n",
              "      <td>2</td>\n",
              "      <td>2</td>\n",
              "    </tr>\n",
              "    <tr>\n",
              "      <th>33</th>\n",
              "      <td>0</td>\n",
              "      <td>0</td>\n",
              "    </tr>\n",
              "    <tr>\n",
              "      <th>34</th>\n",
              "      <td>0</td>\n",
              "      <td>0</td>\n",
              "    </tr>\n",
              "    <tr>\n",
              "      <th>35</th>\n",
              "      <td>0</td>\n",
              "      <td>0</td>\n",
              "    </tr>\n",
              "    <tr>\n",
              "      <th>36</th>\n",
              "      <td>2</td>\n",
              "      <td>2</td>\n",
              "    </tr>\n",
              "    <tr>\n",
              "      <th>37</th>\n",
              "      <td>2</td>\n",
              "      <td>2</td>\n",
              "    </tr>\n",
              "    <tr>\n",
              "      <th>38</th>\n",
              "      <td>1</td>\n",
              "      <td>1</td>\n",
              "    </tr>\n",
              "    <tr>\n",
              "      <th>39</th>\n",
              "      <td>2</td>\n",
              "      <td>2</td>\n",
              "    </tr>\n",
              "    <tr>\n",
              "      <th>40</th>\n",
              "      <td>0</td>\n",
              "      <td>0</td>\n",
              "    </tr>\n",
              "    <tr>\n",
              "      <th>41</th>\n",
              "      <td>1</td>\n",
              "      <td>1</td>\n",
              "    </tr>\n",
              "    <tr>\n",
              "      <th>42</th>\n",
              "      <td>1</td>\n",
              "      <td>1</td>\n",
              "    </tr>\n",
              "    <tr>\n",
              "      <th>43</th>\n",
              "      <td>1</td>\n",
              "      <td>1</td>\n",
              "    </tr>\n",
              "    <tr>\n",
              "      <th>44</th>\n",
              "      <td>2</td>\n",
              "      <td>2</td>\n",
              "    </tr>\n",
              "  </tbody>\n",
              "</table>\n",
              "</div>\n",
              "      <button class=\"colab-df-convert\" onclick=\"convertToInteractive('df-0f8b50ae-2c4d-4e71-b739-83c460668d0e')\"\n",
              "              title=\"Convert this dataframe to an interactive table.\"\n",
              "              style=\"display:none;\">\n",
              "        \n",
              "  <svg xmlns=\"http://www.w3.org/2000/svg\" height=\"24px\"viewBox=\"0 0 24 24\"\n",
              "       width=\"24px\">\n",
              "    <path d=\"M0 0h24v24H0V0z\" fill=\"none\"/>\n",
              "    <path d=\"M18.56 5.44l.94 2.06.94-2.06 2.06-.94-2.06-.94-.94-2.06-.94 2.06-2.06.94zm-11 1L8.5 8.5l.94-2.06 2.06-.94-2.06-.94L8.5 2.5l-.94 2.06-2.06.94zm10 10l.94 2.06.94-2.06 2.06-.94-2.06-.94-.94-2.06-.94 2.06-2.06.94z\"/><path d=\"M17.41 7.96l-1.37-1.37c-.4-.4-.92-.59-1.43-.59-.52 0-1.04.2-1.43.59L10.3 9.45l-7.72 7.72c-.78.78-.78 2.05 0 2.83L4 21.41c.39.39.9.59 1.41.59.51 0 1.02-.2 1.41-.59l7.78-7.78 2.81-2.81c.8-.78.8-2.07 0-2.86zM5.41 20L4 18.59l7.72-7.72 1.47 1.35L5.41 20z\"/>\n",
              "  </svg>\n",
              "      </button>\n",
              "      \n",
              "  <style>\n",
              "    .colab-df-container {\n",
              "      display:flex;\n",
              "      flex-wrap:wrap;\n",
              "      gap: 12px;\n",
              "    }\n",
              "\n",
              "    .colab-df-convert {\n",
              "      background-color: #E8F0FE;\n",
              "      border: none;\n",
              "      border-radius: 50%;\n",
              "      cursor: pointer;\n",
              "      display: none;\n",
              "      fill: #1967D2;\n",
              "      height: 32px;\n",
              "      padding: 0 0 0 0;\n",
              "      width: 32px;\n",
              "    }\n",
              "\n",
              "    .colab-df-convert:hover {\n",
              "      background-color: #E2EBFA;\n",
              "      box-shadow: 0px 1px 2px rgba(60, 64, 67, 0.3), 0px 1px 3px 1px rgba(60, 64, 67, 0.15);\n",
              "      fill: #174EA6;\n",
              "    }\n",
              "\n",
              "    [theme=dark] .colab-df-convert {\n",
              "      background-color: #3B4455;\n",
              "      fill: #D2E3FC;\n",
              "    }\n",
              "\n",
              "    [theme=dark] .colab-df-convert:hover {\n",
              "      background-color: #434B5C;\n",
              "      box-shadow: 0px 1px 3px 1px rgba(0, 0, 0, 0.15);\n",
              "      filter: drop-shadow(0px 1px 2px rgba(0, 0, 0, 0.3));\n",
              "      fill: #FFFFFF;\n",
              "    }\n",
              "  </style>\n",
              "\n",
              "      <script>\n",
              "        const buttonEl =\n",
              "          document.querySelector('#df-0f8b50ae-2c4d-4e71-b739-83c460668d0e button.colab-df-convert');\n",
              "        buttonEl.style.display =\n",
              "          google.colab.kernel.accessAllowed ? 'block' : 'none';\n",
              "\n",
              "        async function convertToInteractive(key) {\n",
              "          const element = document.querySelector('#df-0f8b50ae-2c4d-4e71-b739-83c460668d0e');\n",
              "          const dataTable =\n",
              "            await google.colab.kernel.invokeFunction('convertToInteractive',\n",
              "                                                     [key], {});\n",
              "          if (!dataTable) return;\n",
              "\n",
              "          const docLinkHtml = 'Like what you see? Visit the ' +\n",
              "            '<a target=\"_blank\" href=https://colab.research.google.com/notebooks/data_table.ipynb>data table notebook</a>'\n",
              "            + ' to learn more about interactive tables.';\n",
              "          element.innerHTML = '';\n",
              "          dataTable['output_type'] = 'display_data';\n",
              "          await google.colab.output.renderOutput(dataTable, element);\n",
              "          const docLink = document.createElement('div');\n",
              "          docLink.innerHTML = docLinkHtml;\n",
              "          element.appendChild(docLink);\n",
              "        }\n",
              "      </script>\n",
              "    </div>\n",
              "  </div>\n",
              "  "
            ]
          },
          "metadata": {},
          "execution_count": 13
        }
      ]
    },
    {
      "cell_type": "code",
      "metadata": {
        "id": "B66nVhbk2Mf1"
      },
      "source": [
        "# расчет точности - отношение верных прогнозов к общему количеству позиций\n",
        "# является хорошей метрикой для сбалансированных классов \n",
        "# (наблюдений в категориях примерно одинаковое количество)\n",
        "\n",
        "from sklearn.metrics import accuracy_score"
      ],
      "execution_count": null,
      "outputs": []
    },
    {
      "cell_type": "code",
      "metadata": {
        "id": "2x5pYOZB2P2F",
        "colab": {
          "base_uri": "https://localhost:8080/"
        },
        "outputId": "4d23e073-8534-402f-d9bc-fda5194d6f77"
      },
      "source": [
        "accuracy_score(y_test, lda.predict(X_test))"
      ],
      "execution_count": null,
      "outputs": [
        {
          "output_type": "execute_result",
          "data": {
            "text/plain": [
              "1.0"
            ]
          },
          "metadata": {},
          "execution_count": 15
        }
      ]
    },
    {
      "cell_type": "code",
      "metadata": {
        "id": "aBdqgd5ixdMh",
        "colab": {
          "base_uri": "https://localhost:8080/"
        },
        "outputId": "bf76f2c5-6fe7-4ded-c22f-61bbff3bdef1"
      },
      "source": [
        "# коэффициенты дискриминатных линий\n",
        "lda.coef_"
      ],
      "execution_count": null,
      "outputs": [
        {
          "output_type": "execute_result",
          "data": {
            "text/plain": [
              "array([[ 2.77785654e+00, -2.62823777e-01,  6.34033699e+00,\n",
              "        -9.23264800e-01,  1.12148061e-03, -1.73622434e+00,\n",
              "         4.95743646e+00,  3.14554165e+00, -1.19253447e+00,\n",
              "        -8.98034416e-01, -1.73258088e-01,  3.81064150e+00,\n",
              "         1.36856107e-02],\n",
              "       [-2.00764892e+00, -4.89578703e-01, -6.54854947e+00,\n",
              "         4.49722072e-01,  4.06933168e-05, -7.56394603e-01,\n",
              "         1.34633325e+00,  2.67670321e+00,  1.06737575e+00,\n",
              "        -6.98689535e-01,  3.51943073e+00,  4.92874648e-01,\n",
              "        -5.99014310e-03],\n",
              "       [-4.39452636e-01,  1.04199771e+00,  1.89161928e+00,\n",
              "         4.66343927e-01, -1.43060813e-03,  3.23563291e+00,\n",
              "        -8.04119074e+00, -7.78525286e+00, -1.13872164e-01,\n",
              "         2.12622388e+00, -4.96962424e+00, -5.38307173e+00,\n",
              "        -7.90803569e-03]])"
            ]
          },
          "metadata": {},
          "execution_count": 16
        }
      ]
    },
    {
      "cell_type": "code",
      "metadata": {
        "id": "KFSam-cJzCOG"
      },
      "source": [
        "# визуализируем дискриминантные линии только по 2 признакам\n",
        "small_train = X_train[['ash', 'flavanoids']]\n",
        "small_test = X_test[['ash', 'flavanoids']]"
      ],
      "execution_count": null,
      "outputs": []
    },
    {
      "cell_type": "code",
      "metadata": {
        "id": "SX47KNgXySEU",
        "colab": {
          "base_uri": "https://localhost:8080/",
          "height": 283
        },
        "outputId": "56ceda77-cc2b-42d8-9f45-a1d8d1a8a62a"
      },
      "source": [
        "plt.scatter(x=small_train['ash'], y=small_train['flavanoids'], c=y_train)\n",
        "plt.legend()\n",
        "plt.show()\n"
      ],
      "execution_count": null,
      "outputs": [
        {
          "output_type": "stream",
          "name": "stderr",
          "text": [
            "WARNING:matplotlib.legend:No handles with labels found to put in legend.\n"
          ]
        },
        {
          "output_type": "display_data",
          "data": {
            "text/plain": [
              "<Figure size 432x288 with 1 Axes>"
            ],
            "image/png": "[encoded data removed]"
          },
          "metadata": {
            "needs_background": "light"
          }
        }
      ]
    },
    {
      "cell_type": "code",
      "metadata": {
        "id": "jzWXDuY7y453",
        "colab": {
          "base_uri": "https://localhost:8080/"
        },
        "outputId": "aedb1e77-0fad-4548-ca3a-0fee1be98cf3"
      },
      "source": [
        "lda_small = LinearDiscriminantAnalysis()\n",
        "lda_small.fit(small_train, y_train)"
      ],
      "execution_count": null,
      "outputs": [
        {
          "output_type": "execute_result",
          "data": {
            "text/plain": [
              "LinearDiscriminantAnalysis()"
            ]
          },
          "metadata": {},
          "execution_count": 19
        }
      ]
    },
    {
      "cell_type": "code",
      "metadata": {
        "id": "MSo9yPBxzPYx",
        "colab": {
          "base_uri": "https://localhost:8080/"
        },
        "outputId": "4c3fedb2-1702-4739-8bd3-a9015bfd2828"
      },
      "source": [
        "# посмотрим на наши центроиды\n",
        "lda_small.means_"
      ],
      "execution_count": null,
      "outputs": [
        {
          "output_type": "execute_result",
          "data": {
            "text/plain": [
              "array([[2.45795455, 2.98522727],\n",
              "       [2.24735849, 2.07150943],\n",
              "       [2.41416667, 0.76888889]])"
            ]
          },
          "metadata": {},
          "execution_count": 20
        }
      ]
    },
    {
      "cell_type": "code",
      "metadata": {
        "id": "IrQb_JTwzREc",
        "colab": {
          "base_uri": "https://localhost:8080/",
          "height": 283
        },
        "outputId": "3b634c50-3989-47bf-b069-bfdbbe82366b"
      },
      "source": [
        "# сам scatter plot\n",
        "plt.scatter(small_train['ash'], small_train['flavanoids'], c=y_train)\n",
        "# центроиды\n",
        "plt.scatter(lda_small.means_[:, 0], lda_small.means_[:, 1], c='r', s=150, marker='*')\n"
      ],
      "execution_count": null,
      "outputs": [
        {
          "output_type": "execute_result",
          "data": {
            "text/plain": [
              "<matplotlib.collections.PathCollection at 0x7fa5a0f1a1f0>"
            ]
          },
          "metadata": {},
          "execution_count": 21
        },
        {
          "output_type": "display_data",
          "data": {
            "text/plain": [
              "<Figure size 432x288 with 1 Axes>"
            ],
            "image/png": "[encoded data removed]"
          },
          "metadata": {
            "needs_background": "light"
          }
        }
      ]
    },
    {
      "cell_type": "code",
      "source": [
        "# визуализация разделения на тесте\n",
        "plt.scatter(small_test['ash'], small_test['flavanoids'], c=lda_small.predict(small_test))\n",
        "# центроиды\n",
        "plt.scatter(lda_small.means_[:, 0], lda_small.means_[:, 1], c='r', s=150, marker='*')"
      ],
      "metadata": {
        "colab": {
          "base_uri": "https://localhost:8080/",
          "height": 283
        },
        "id": "0FIaGY8jWia1",
        "outputId": "4d96b146-09dc-418b-88ea-343cda0ef62c"
      },
      "execution_count": null,
      "outputs": [
        {
          "output_type": "execute_result",
          "data": {
            "text/plain": [
              "<matplotlib.collections.PathCollection at 0x7fa5a0e89850>"
            ]
          },
          "metadata": {},
          "execution_count": 22
        },
        {
          "output_type": "display_data",
          "data": {
            "text/plain": [
              "<Figure size 432x288 with 1 Axes>"
            ],
            "image/png": "[encoded data removed]"
          },
          "metadata": {
            "needs_background": "light"
          }
        }
      ]
    },
    {
      "cell_type": "code",
      "metadata": {
        "id": "e4_nponj4X5a",
        "colab": {
          "base_uri": "https://localhost:8080/"
        },
        "outputId": "70a6b932-62ee-4472-ba60-4da7df09446a"
      },
      "source": [
        "# второй признак во много раз важнее первого для кластеризации (это видно по визуализации)\n",
        "lda_small.coef_"
      ],
      "execution_count": null,
      "outputs": [
        {
          "output_type": "execute_result",
          "data": {
            "text/plain": [
              "array([[-0.35930524,  3.52752381],\n",
              "       [-1.82165655,  0.40785359],\n",
              "       [ 3.1210341 , -4.9118691 ]])"
            ]
          },
          "metadata": {},
          "execution_count": 23
        }
      ]
    },
    {
      "cell_type": "code",
      "metadata": {
        "id": "fDmV457H4kz_",
        "colab": {
          "base_uri": "https://localhost:8080/"
        },
        "outputId": "10dcdd9d-50ca-404d-9e3f-65dad7396a50"
      },
      "source": [
        "# какая будет точность?\n",
        "accuracy_score(y_test, lda_small.predict(small_test))"
      ],
      "execution_count": null,
      "outputs": [
        {
          "output_type": "execute_result",
          "data": {
            "text/plain": [
              "0.8"
            ]
          },
          "metadata": {},
          "execution_count": 24
        }
      ]
    },
    {
      "cell_type": "code",
      "metadata": {
        "id": "bhPt9IHjby5I",
        "colab": {
          "base_uri": "https://localhost:8080/",
          "height": 112
        },
        "outputId": "26d1a40d-e07a-4779-ad19-5594188bdd94"
      },
      "source": [
        "data[['flavanoids', 'ash']].corr()"
      ],
      "execution_count": null,
      "outputs": [
        {
          "output_type": "execute_result",
          "data": {
            "text/plain": [
              "            flavanoids       ash\n",
              "flavanoids    1.000000  0.115077\n",
              "ash           0.115077  1.000000"
            ],
            "text/html": [
              "\n",
              "  <div id=\"df-3e5ef823-eea9-4da5-bac1-3f11576bf809\">\n",
              "    <div class=\"colab-df-container\">\n",
              "      <div>\n",
              "<style scoped>\n",
              "    .dataframe tbody tr th:only-of-type {\n",
              "        vertical-align: middle;\n",
              "    }\n",
              "\n",
              "    .dataframe tbody tr th {\n",
              "        vertical-align: top;\n",
              "    }\n",
              "\n",
              "    .dataframe thead th {\n",
              "        text-align: right;\n",
              "    }\n",
              "</style>\n",
              "<table border=\"1\" class=\"dataframe\">\n",
              "  <thead>\n",
              "    <tr style=\"text-align: right;\">\n",
              "      <th></th>\n",
              "      <th>flavanoids</th>\n",
              "      <th>ash</th>\n",
              "    </tr>\n",
              "  </thead>\n",
              "  <tbody>\n",
              "    <tr>\n",
              "      <th>flavanoids</th>\n",
              "      <td>1.000000</td>\n",
              "      <td>0.115077</td>\n",
              "    </tr>\n",
              "    <tr>\n",
              "      <th>ash</th>\n",
              "      <td>0.115077</td>\n",
              "      <td>1.000000</td>\n",
              "    </tr>\n",
              "  </tbody>\n",
              "</table>\n",
              "</div>\n",
              "      <button class=\"colab-df-convert\" onclick=\"convertToInteractive('df-3e5ef823-eea9-4da5-bac1-3f11576bf809')\"\n",
              "              title=\"Convert this dataframe to an interactive table.\"\n",
              "              style=\"display:none;\">\n",
              "        \n",
              "  <svg xmlns=\"http://www.w3.org/2000/svg\" height=\"24px\"viewBox=\"0 0 24 24\"\n",
              "       width=\"24px\">\n",
              "    <path d=\"M0 0h24v24H0V0z\" fill=\"none\"/>\n",
              "    <path d=\"M18.56 5.44l.94 2.06.94-2.06 2.06-.94-2.06-.94-.94-2.06-.94 2.06-2.06.94zm-11 1L8.5 8.5l.94-2.06 2.06-.94-2.06-.94L8.5 2.5l-.94 2.06-2.06.94zm10 10l.94 2.06.94-2.06 2.06-.94-2.06-.94-.94-2.06-.94 2.06-2.06.94z\"/><path d=\"M17.41 7.96l-1.37-1.37c-.4-.4-.92-.59-1.43-.59-.52 0-1.04.2-1.43.59L10.3 9.45l-7.72 7.72c-.78.78-.78 2.05 0 2.83L4 21.41c.39.39.9.59 1.41.59.51 0 1.02-.2 1.41-.59l7.78-7.78 2.81-2.81c.8-.78.8-2.07 0-2.86zM5.41 20L4 18.59l7.72-7.72 1.47 1.35L5.41 20z\"/>\n",
              "  </svg>\n",
              "      </button>\n",
              "      \n",
              "  <style>\n",
              "    .colab-df-container {\n",
              "      display:flex;\n",
              "      flex-wrap:wrap;\n",
              "      gap: 12px;\n",
              "    }\n",
              "\n",
              "    .colab-df-convert {\n",
              "      background-color: #E8F0FE;\n",
              "      border: none;\n",
              "      border-radius: 50%;\n",
              "      cursor: pointer;\n",
              "      display: none;\n",
              "      fill: #1967D2;\n",
              "      height: 32px;\n",
              "      padding: 0 0 0 0;\n",
              "      width: 32px;\n",
              "    }\n",
              "\n",
              "    .colab-df-convert:hover {\n",
              "      background-color: #E2EBFA;\n",
              "      box-shadow: 0px 1px 2px rgba(60, 64, 67, 0.3), 0px 1px 3px 1px rgba(60, 64, 67, 0.15);\n",
              "      fill: #174EA6;\n",
              "    }\n",
              "\n",
              "    [theme=dark] .colab-df-convert {\n",
              "      background-color: #3B4455;\n",
              "      fill: #D2E3FC;\n",
              "    }\n",
              "\n",
              "    [theme=dark] .colab-df-convert:hover {\n",
              "      background-color: #434B5C;\n",
              "      box-shadow: 0px 1px 3px 1px rgba(0, 0, 0, 0.15);\n",
              "      filter: drop-shadow(0px 1px 2px rgba(0, 0, 0, 0.3));\n",
              "      fill: #FFFFFF;\n",
              "    }\n",
              "  </style>\n",
              "\n",
              "      <script>\n",
              "        const buttonEl =\n",
              "          document.querySelector('#df-3e5ef823-eea9-4da5-bac1-3f11576bf809 button.colab-df-convert');\n",
              "        buttonEl.style.display =\n",
              "          google.colab.kernel.accessAllowed ? 'block' : 'none';\n",
              "\n",
              "        async function convertToInteractive(key) {\n",
              "          const element = document.querySelector('#df-3e5ef823-eea9-4da5-bac1-3f11576bf809');\n",
              "          const dataTable =\n",
              "            await google.colab.kernel.invokeFunction('convertToInteractive',\n",
              "                                                     [key], {});\n",
              "          if (!dataTable) return;\n",
              "\n",
              "          const docLinkHtml = 'Like what you see? Visit the ' +\n",
              "            '<a target=\"_blank\" href=https://colab.research.google.com/notebooks/data_table.ipynb>data table notebook</a>'\n",
              "            + ' to learn more about interactive tables.';\n",
              "          element.innerHTML = '';\n",
              "          dataTable['output_type'] = 'display_data';\n",
              "          await google.colab.output.renderOutput(dataTable, element);\n",
              "          const docLink = document.createElement('div');\n",
              "          docLink.innerHTML = docLinkHtml;\n",
              "          element.appendChild(docLink);\n",
              "        }\n",
              "      </script>\n",
              "    </div>\n",
              "  </div>\n",
              "  "
            ]
          },
          "metadata": {},
          "execution_count": 25
        }
      ]
    },
    {
      "cell_type": "code",
      "metadata": {
        "id": "E-gchIEJ4t2d"
      },
      "source": [
        "# заменим модель на логистическую регрессиию\n",
        "# кому интересно, отличия логистической регрессии от LDA: \n",
        "# https://www.introspective-mode.org/logistic-regression-or-discriminant-function-analysis/\n",
        "# Основные моменты:\n",
        "# LR может работать с категориальными признаками \n",
        "# зависимая переменная в LR подчиняется логистической функции (изменяется от 0 до 1) и непрерывна\n",
        "from sklearn.linear_model import LogisticRegression"
      ],
      "execution_count": null,
      "outputs": []
    },
    {
      "cell_type": "code",
      "metadata": {
        "id": "R4NDgweF41cm"
      },
      "source": [
        "lr = LogisticRegression()"
      ],
      "execution_count": null,
      "outputs": []
    },
    {
      "cell_type": "code",
      "metadata": {
        "id": "badyR0Tj43nx",
        "colab": {
          "base_uri": "https://localhost:8080/"
        },
        "outputId": "e4599855-ff01-4596-c115-2d9eeb46af9e"
      },
      "source": [
        "lr.fit(X_train, y_train)"
      ],
      "execution_count": null,
      "outputs": [
        {
          "output_type": "stream",
          "name": "stderr",
          "text": [
            "/usr/local/lib/python3.8/dist-packages/sklearn/linear_model/_logistic.py:814: ConvergenceWarning: lbfgs failed to converge (status=1):\n",
            "STOP: TOTAL NO. of ITERATIONS REACHED LIMIT.\n",
            "\n",
            "Increase the number of iterations (max_iter) or scale the data as shown in:\n",
            "    https://scikit-learn.org/stable/modules/preprocessing.html\n",
            "Please also refer to the documentation for alternative solver options:\n",
            "    https://scikit-learn.org/stable/modules/linear_model.html#logistic-regression\n",
            "  n_iter_i = _check_optimize_result(\n"
          ]
        },
        {
          "output_type": "execute_result",
          "data": {
            "text/plain": [
              "LogisticRegression()"
            ]
          },
          "metadata": {},
          "execution_count": 28
        }
      ]
    },
    {
      "cell_type": "code",
      "metadata": {
        "id": "NfqW9uR9481f",
        "colab": {
          "base_uri": "https://localhost:8080/"
        },
        "outputId": "16d8e051-5235-44ae-ebe7-8b55b2cf724f"
      },
      "source": [
        "lr.predict(X_test)"
      ],
      "execution_count": null,
      "outputs": [
        {
          "output_type": "execute_result",
          "data": {
            "text/plain": [
              "array([0, 0, 2, 0, 1, 0, 1, 2, 1, 2, 1, 2, 0, 1, 0, 1, 1, 1, 0, 1, 0, 1,\n",
              "       1, 2, 2, 2, 1, 1, 1, 0, 0, 1, 2, 0, 0, 0, 2, 2, 1, 2, 0, 1, 1, 1,\n",
              "       2])"
            ]
          },
          "metadata": {},
          "execution_count": 29
        }
      ]
    },
    {
      "cell_type": "code",
      "metadata": {
        "id": "DNUNJ6NLby5J",
        "colab": {
          "base_uri": "https://localhost:8080/"
        },
        "outputId": "13e70784-576f-4ddb-9a22-a74b8bf606b2"
      },
      "source": [
        "# вероятность принадлежности к тому или иному классу\n",
        "lr.predict_proba(X_test)"
      ],
      "execution_count": null,
      "outputs": [
        {
          "output_type": "execute_result",
          "data": {
            "text/plain": [
              "array([[9.71400853e-01, 1.37503820e-02, 1.48487651e-02],\n",
              "       [9.88430124e-01, 1.49092717e-03, 1.00789486e-02],\n",
              "       [4.93090228e-02, 2.31732668e-01, 7.18958309e-01],\n",
              "       [9.96832707e-01, 1.27304805e-03, 1.89424528e-03],\n",
              "       [6.55348795e-02, 9.05737651e-01, 2.87274693e-02],\n",
              "       [9.93925100e-01, 3.58539184e-04, 5.71636098e-03],\n",
              "       [1.45221444e-02, 9.85066433e-01, 4.11422517e-04],\n",
              "       [5.72665050e-03, 3.38370016e-04, 9.93934979e-01],\n",
              "       [4.56442762e-02, 9.54074923e-01, 2.80801234e-04],\n",
              "       [1.58598776e-01, 1.49892814e-02, 8.26411942e-01],\n",
              "       [4.87560512e-01, 5.10439911e-01, 1.99957654e-03],\n",
              "       [1.17356186e-04, 2.31706727e-04, 9.99650937e-01],\n",
              "       [9.92448689e-01, 3.71459389e-03, 3.83671718e-03],\n",
              "       [6.22456126e-02, 7.99272171e-01, 1.38482216e-01],\n",
              "       [9.93080016e-01, 1.23646200e-05, 6.90761902e-03],\n",
              "       [3.06831509e-04, 9.99601399e-01, 9.17698661e-05],\n",
              "       [1.84742240e-03, 9.96910510e-01, 1.24206803e-03],\n",
              "       [3.12437167e-03, 9.96543762e-01, 3.31866420e-04],\n",
              "       [9.92573229e-01, 2.77121373e-04, 7.14964983e-03],\n",
              "       [6.09310007e-04, 9.99156950e-01, 2.33739694e-04],\n",
              "       [9.99768978e-01, 1.55670449e-08, 2.31005994e-04],\n",
              "       [4.30625508e-01, 5.55550635e-01, 1.38238565e-02],\n",
              "       [2.91044263e-01, 5.82422820e-01, 1.26532917e-01],\n",
              "       [4.01482799e-04, 6.36404394e-05, 9.99534877e-01],\n",
              "       [1.02739713e-04, 3.20619741e-06, 9.99894054e-01],\n",
              "       [3.52125799e-04, 9.50949540e-06, 9.99638365e-01],\n",
              "       [4.90562719e-05, 9.99903874e-01, 4.70694708e-05],\n",
              "       [4.04736012e-01, 5.47176332e-01, 4.80876562e-02],\n",
              "       [1.04275670e-02, 9.86813582e-01, 2.75885061e-03],\n",
              "       [9.76349902e-01, 3.79592070e-03, 1.98541769e-02],\n",
              "       [9.93935227e-01, 4.62828549e-03, 1.43648748e-03],\n",
              "       [4.34507552e-05, 9.99935275e-01, 2.12744655e-05],\n",
              "       [2.49858379e-01, 9.67087353e-02, 6.53432886e-01],\n",
              "       [9.99255421e-01, 3.16475196e-06, 7.41414208e-04],\n",
              "       [9.99607813e-01, 2.18830933e-05, 3.70304014e-04],\n",
              "       [9.99181823e-01, 4.10057186e-04, 4.08119583e-04],\n",
              "       [7.10496774e-05, 3.85406835e-07, 9.99928565e-01],\n",
              "       [3.98594608e-03, 3.86257335e-02, 9.57388320e-01],\n",
              "       [3.64287111e-01, 6.31747198e-01, 3.96569022e-03],\n",
              "       [2.21231460e-04, 1.34287010e-06, 9.99777426e-01],\n",
              "       [9.88162559e-01, 1.03937630e-02, 1.44367846e-03],\n",
              "       [4.60635015e-04, 9.99365455e-01, 1.73909526e-04],\n",
              "       [2.75051259e-03, 9.96898860e-01, 3.50627431e-04],\n",
              "       [2.65880960e-01, 6.90961932e-01, 4.31571081e-02],\n",
              "       [8.39093515e-02, 1.56426829e-01, 7.59663819e-01]])"
            ]
          },
          "metadata": {},
          "execution_count": 30
        }
      ]
    },
    {
      "cell_type": "code",
      "source": [
        "res = lr.predict_proba(X_test)\n",
        "sum(res[0])"
      ],
      "metadata": {
        "colab": {
          "base_uri": "https://localhost:8080/"
        },
        "id": "AeVlqtYzivPC",
        "outputId": "825270dd-1e2e-489a-c5fc-d4b2d4150795"
      },
      "execution_count": null,
      "outputs": [
        {
          "output_type": "execute_result",
          "data": {
            "text/plain": [
              "1.0000000000000002"
            ]
          },
          "metadata": {},
          "execution_count": 31
        }
      ]
    },
    {
      "cell_type": "code",
      "metadata": {
        "id": "qqFys9hT4_Eo",
        "colab": {
          "base_uri": "https://localhost:8080/"
        },
        "outputId": "7f798e90-5223-41f1-b3ce-aa7c638337c0"
      },
      "source": [
        "accuracy_score(y_test, lr.predict(X_test))"
      ],
      "execution_count": null,
      "outputs": [
        {
          "output_type": "execute_result",
          "data": {
            "text/plain": [
              "0.9777777777777777"
            ]
          },
          "metadata": {},
          "execution_count": 32
        }
      ]
    },
    {
      "cell_type": "code",
      "metadata": {
        "id": "1Ei0UlN55CZ_",
        "colab": {
          "base_uri": "https://localhost:8080/"
        },
        "outputId": "25cca345-d381-4788-a1ba-209f5d1ce2dc"
      },
      "source": [
        "lr.coef_"
      ],
      "execution_count": null,
      "outputs": [
        {
          "output_type": "execute_result",
          "data": {
            "text/plain": [
              "array([[ 1.04492005e-03,  1.68308279e-01,  1.28955543e-01,\n",
              "        -2.45685080e-01, -2.59997387e-02,  1.95644769e-01,\n",
              "         4.00084311e-01, -8.77613826e-03,  4.80923949e-02,\n",
              "         2.16658969e-02, -3.99771527e-03,  2.41921169e-01,\n",
              "         7.08260420e-03],\n",
              "       [ 2.30103524e-01, -5.05397778e-01, -1.37726985e-01,\n",
              "         2.38215924e-01,  1.06745894e-02,  1.60173532e-01,\n",
              "         3.00902074e-01,  8.46291140e-03,  2.78897385e-01,\n",
              "        -1.08495790e+00,  1.87786804e-01,  3.76443575e-01,\n",
              "        -6.27546745e-03],\n",
              "       [-2.31148444e-01,  3.37089499e-01,  8.77144203e-03,\n",
              "         7.46915678e-03,  1.53251493e-02, -3.55818300e-01,\n",
              "        -7.00986384e-01,  3.13226865e-04, -3.26989780e-01,\n",
              "         1.06329200e+00, -1.83789089e-01, -6.18364745e-01,\n",
              "        -8.07136754e-04]])"
            ]
          },
          "metadata": {},
          "execution_count": 33
        }
      ]
    },
    {
      "cell_type": "markdown",
      "metadata": {
        "id": "UJefBk-e58kX"
      },
      "source": [
        "## Кластеризация"
      ]
    },
    {
      "cell_type": "code",
      "metadata": {
        "id": "ZK-UchxSXREG"
      },
      "source": [
        "# генерируем искусвтенные данные для примера\n",
        "from sklearn.datasets import make_blobs"
      ],
      "execution_count": null,
      "outputs": []
    },
    {
      "cell_type": "code",
      "metadata": {
        "id": "_NxdrQ7RXSF5"
      },
      "source": [
        "# 200 точек с 2 центрами, СКО - 2.5\n",
        "X, y = make_blobs(n_samples=200, centers=2, cluster_std=2.5)"
      ],
      "execution_count": null,
      "outputs": []
    },
    {
      "cell_type": "code",
      "metadata": {
        "id": "TjSYaC57XUeq",
        "scrolled": true,
        "colab": {
          "base_uri": "https://localhost:8080/",
          "height": 283
        },
        "outputId": "5c3130dd-d6c7-4a7e-babd-afc176a9a02e"
      },
      "source": [
        "plt.scatter(X[:, 0], X[:, 1], cmap='autumn', s=60)"
      ],
      "execution_count": null,
      "outputs": [
        {
          "output_type": "execute_result",
          "data": {
            "text/plain": [
              "<matplotlib.collections.PathCollection at 0x7fa5a0e1ad30>"
            ]
          },
          "metadata": {},
          "execution_count": 38
        },
        {
          "output_type": "display_data",
          "data": {
            "text/plain": [
              "<Figure size 432x288 with 1 Axes>"
            ],
            "image/png": "[encoded data removed]"
          },
          "metadata": {
            "needs_background": "light"
          }
        }
      ]
    },
    {
      "cell_type": "code",
      "metadata": {
        "id": "bWdNYOIqzzO-"
      },
      "source": [
        "# приведем данные к единому масштабу\n",
        "from sklearn.preprocessing import StandardScaler"
      ],
      "execution_count": null,
      "outputs": []
    },
    {
      "cell_type": "code",
      "metadata": {
        "id": "NzLJH0GBXGwQ"
      },
      "source": [
        "scaler = StandardScaler()"
      ],
      "execution_count": null,
      "outputs": []
    },
    {
      "cell_type": "markdown",
      "metadata": {
        "id": "JcyHcWN-by5Q"
      },
      "source": [
        "В реальных задачах при разделении выборки на train и test нужно обучать StandardScaler только на тренировочных данных (и применять уже к тестовым данным).\n"
      ]
    },
    {
      "cell_type": "code",
      "metadata": {
        "id": "ZjwJ2Nbxby5Q"
      },
      "source": [
        "v_1 = np.array(np.random.randint(0, 1000, 500))\n",
        "v_2 = np.array(np.random.randint(0, 10, 500))"
      ],
      "execution_count": null,
      "outputs": []
    },
    {
      "cell_type": "code",
      "metadata": {
        "id": "ejb3KNymby5R",
        "colab": {
          "base_uri": "https://localhost:8080/"
        },
        "outputId": "41d2a370-560e-4e8f-d2fc-9912546a1b5d"
      },
      "source": [
        "print(v_1.max())\n",
        "print(v_1.min())\n",
        "\n",
        "print(v_2.max())\n",
        "print(v_2.min())"
      ],
      "execution_count": null,
      "outputs": [
        {
          "output_type": "stream",
          "name": "stdout",
          "text": [
            "999\n",
            "0\n",
            "9\n",
            "0\n"
          ]
        }
      ]
    },
    {
      "cell_type": "code",
      "metadata": {
        "id": "l6wzLVZ-by5R",
        "colab": {
          "base_uri": "https://localhost:8080/"
        },
        "outputId": "e7b4bda0-bf83-41df-f8b0-9b6e1ce4b94c"
      },
      "source": [
        "v_1_scaled = scaler.fit_transform(v_1.reshape(-1, 1))\n",
        "v_1_scaled\n",
        "v_2_scaled = scaler.fit_transform(v_2.reshape(-1, 1))\n",
        "v_2_scaled"
      ],
      "execution_count": null,
      "outputs": [
        {
          "output_type": "execute_result",
          "data": {
            "text/plain": [
              "array([[ 0.87731003],\n",
              "       [-1.67512979],\n",
              "       [ 1.60657855],\n",
              "       [ 0.14804151],\n",
              "       [-1.67512979],\n",
              "       [-0.21659275],\n",
              "       [-1.31049553],\n",
              "       [ 1.24194429],\n",
              "       [-0.94586127],\n",
              "       [ 0.87731003],\n",
              "       [ 1.24194429],\n",
              "       [-1.67512979],\n",
              "       [ 1.60657855],\n",
              "       [-1.67512979],\n",
              "       [-0.94586127],\n",
              "       [ 0.51267577],\n",
              "       [-0.21659275],\n",
              "       [-0.21659275],\n",
              "       [-0.58122701],\n",
              "       [ 0.51267577],\n",
              "       [ 1.24194429],\n",
              "       [ 0.87731003],\n",
              "       [ 0.51267577],\n",
              "       [-0.58122701],\n",
              "       [ 1.60657855],\n",
              "       [ 0.51267577],\n",
              "       [ 0.51267577],\n",
              "       [-0.21659275],\n",
              "       [ 1.60657855],\n",
              "       [-1.31049553],\n",
              "       [ 0.87731003],\n",
              "       [-1.67512979],\n",
              "       [ 0.87731003],\n",
              "       [ 0.14804151],\n",
              "       [ 0.14804151],\n",
              "       [ 0.87731003],\n",
              "       [-0.94586127],\n",
              "       [ 1.60657855],\n",
              "       [ 0.14804151],\n",
              "       [-1.31049553],\n",
              "       [ 1.24194429],\n",
              "       [ 0.87731003],\n",
              "       [-0.58122701],\n",
              "       [ 0.87731003],\n",
              "       [-0.21659275],\n",
              "       [ 1.60657855],\n",
              "       [ 1.24194429],\n",
              "       [-1.31049553],\n",
              "       [ 0.51267577],\n",
              "       [-0.58122701],\n",
              "       [-0.58122701],\n",
              "       [-1.67512979],\n",
              "       [ 0.87731003],\n",
              "       [-1.67512979],\n",
              "       [ 0.87731003],\n",
              "       [ 0.87731003],\n",
              "       [ 0.14804151],\n",
              "       [-0.21659275],\n",
              "       [-1.67512979],\n",
              "       [-0.58122701],\n",
              "       [ 0.14804151],\n",
              "       [-1.31049553],\n",
              "       [-0.21659275],\n",
              "       [ 0.87731003],\n",
              "       [ 0.51267577],\n",
              "       [-1.67512979],\n",
              "       [ 0.14804151],\n",
              "       [ 0.87731003],\n",
              "       [ 0.14804151],\n",
              "       [-0.21659275],\n",
              "       [ 0.14804151],\n",
              "       [ 0.51267577],\n",
              "       [-0.21659275],\n",
              "       [ 1.60657855],\n",
              "       [ 1.60657855],\n",
              "       [-0.58122701],\n",
              "       [ 0.87731003],\n",
              "       [ 1.24194429],\n",
              "       [-0.58122701],\n",
              "       [ 1.24194429],\n",
              "       [-0.21659275],\n",
              "       [-0.58122701],\n",
              "       [-0.21659275],\n",
              "       [ 0.51267577],\n",
              "       [ 0.87731003],\n",
              "       [-0.58122701],\n",
              "       [ 0.87731003],\n",
              "       [-0.94586127],\n",
              "       [ 1.60657855],\n",
              "       [ 0.51267577],\n",
              "       [ 0.87731003],\n",
              "       [ 0.14804151],\n",
              "       [-1.67512979],\n",
              "       [ 1.24194429],\n",
              "       [-0.58122701],\n",
              "       [-0.58122701],\n",
              "       [ 0.51267577],\n",
              "       [ 1.60657855],\n",
              "       [-0.58122701],\n",
              "       [ 1.60657855],\n",
              "       [ 0.51267577],\n",
              "       [-0.21659275],\n",
              "       [-0.21659275],\n",
              "       [ 0.87731003],\n",
              "       [ 0.87731003],\n",
              "       [-0.58122701],\n",
              "       [-0.21659275],\n",
              "       [ 1.24194429],\n",
              "       [ 0.51267577],\n",
              "       [ 0.87731003],\n",
              "       [-0.94586127],\n",
              "       [ 1.24194429],\n",
              "       [ 0.14804151],\n",
              "       [-0.94586127],\n",
              "       [ 1.60657855],\n",
              "       [-0.58122701],\n",
              "       [ 0.87731003],\n",
              "       [-0.94586127],\n",
              "       [ 0.51267577],\n",
              "       [ 0.51267577],\n",
              "       [-0.21659275],\n",
              "       [-1.67512979],\n",
              "       [-0.94586127],\n",
              "       [-1.31049553],\n",
              "       [-0.21659275],\n",
              "       [-1.31049553],\n",
              "       [ 0.51267577],\n",
              "       [-0.94586127],\n",
              "       [-0.21659275],\n",
              "       [ 0.14804151],\n",
              "       [-1.67512979],\n",
              "       [ 1.60657855],\n",
              "       [ 0.14804151],\n",
              "       [-0.94586127],\n",
              "       [ 1.60657855],\n",
              "       [-0.94586127],\n",
              "       [ 1.24194429],\n",
              "       [-1.67512979],\n",
              "       [-0.94586127],\n",
              "       [-1.31049553],\n",
              "       [-0.21659275],\n",
              "       [ 1.24194429],\n",
              "       [-0.21659275],\n",
              "       [-0.21659275],\n",
              "       [ 0.51267577],\n",
              "       [ 0.87731003],\n",
              "       [-1.31049553],\n",
              "       [-1.67512979],\n",
              "       [ 0.87731003],\n",
              "       [-0.58122701],\n",
              "       [ 1.24194429],\n",
              "       [ 0.51267577],\n",
              "       [ 0.51267577],\n",
              "       [ 0.51267577],\n",
              "       [ 1.24194429],\n",
              "       [-0.21659275],\n",
              "       [ 0.51267577],\n",
              "       [-1.31049553],\n",
              "       [ 0.87731003],\n",
              "       [ 0.51267577],\n",
              "       [ 0.51267577],\n",
              "       [-1.31049553],\n",
              "       [ 0.14804151],\n",
              "       [-0.94586127],\n",
              "       [ 0.14804151],\n",
              "       [-0.21659275],\n",
              "       [-1.67512979],\n",
              "       [ 0.14804151],\n",
              "       [ 0.14804151],\n",
              "       [ 0.14804151],\n",
              "       [-0.58122701],\n",
              "       [-0.94586127],\n",
              "       [ 1.24194429],\n",
              "       [ 0.14804151],\n",
              "       [-0.21659275],\n",
              "       [-0.21659275],\n",
              "       [-1.31049553],\n",
              "       [-0.21659275],\n",
              "       [ 1.60657855],\n",
              "       [ 1.60657855],\n",
              "       [ 0.14804151],\n",
              "       [-0.58122701],\n",
              "       [ 0.51267577],\n",
              "       [ 0.14804151],\n",
              "       [-0.21659275],\n",
              "       [ 0.14804151],\n",
              "       [-0.21659275],\n",
              "       [-1.67512979],\n",
              "       [ 1.60657855],\n",
              "       [ 1.60657855],\n",
              "       [-0.21659275],\n",
              "       [-0.94586127],\n",
              "       [-0.21659275],\n",
              "       [ 0.14804151],\n",
              "       [-0.94586127],\n",
              "       [-0.21659275],\n",
              "       [-0.94586127],\n",
              "       [-0.58122701],\n",
              "       [-0.58122701],\n",
              "       [ 1.24194429],\n",
              "       [-0.58122701],\n",
              "       [ 0.14804151],\n",
              "       [ 1.60657855],\n",
              "       [-0.58122701],\n",
              "       [ 0.51267577],\n",
              "       [ 1.60657855],\n",
              "       [ 0.87731003],\n",
              "       [-0.58122701],\n",
              "       [-1.67512979],\n",
              "       [ 0.87731003],\n",
              "       [ 0.87731003],\n",
              "       [-0.94586127],\n",
              "       [-0.21659275],\n",
              "       [ 0.14804151],\n",
              "       [-0.94586127],\n",
              "       [ 0.14804151],\n",
              "       [ 1.60657855],\n",
              "       [-0.58122701],\n",
              "       [ 0.51267577],\n",
              "       [-1.67512979],\n",
              "       [-1.67512979],\n",
              "       [ 1.24194429],\n",
              "       [ 0.14804151],\n",
              "       [-0.58122701],\n",
              "       [-1.31049553],\n",
              "       [ 0.14804151],\n",
              "       [-1.31049553],\n",
              "       [-1.31049553],\n",
              "       [-0.58122701],\n",
              "       [ 0.14804151],\n",
              "       [ 1.24194429],\n",
              "       [ 0.87731003],\n",
              "       [-0.94586127],\n",
              "       [-0.58122701],\n",
              "       [ 0.87731003],\n",
              "       [ 0.14804151],\n",
              "       [-0.94586127],\n",
              "       [ 1.24194429],\n",
              "       [ 0.14804151],\n",
              "       [ 0.51267577],\n",
              "       [ 0.87731003],\n",
              "       [-0.58122701],\n",
              "       [-0.94586127],\n",
              "       [-0.21659275],\n",
              "       [ 1.60657855],\n",
              "       [-1.31049553],\n",
              "       [ 0.87731003],\n",
              "       [ 0.87731003],\n",
              "       [ 1.24194429],\n",
              "       [-0.21659275],\n",
              "       [ 0.51267577],\n",
              "       [-0.94586127],\n",
              "       [ 0.51267577],\n",
              "       [ 0.14804151],\n",
              "       [ 0.51267577],\n",
              "       [-0.94586127],\n",
              "       [-0.21659275],\n",
              "       [ 1.60657855],\n",
              "       [ 0.51267577],\n",
              "       [ 0.87731003],\n",
              "       [ 1.24194429],\n",
              "       [-1.31049553],\n",
              "       [ 1.24194429],\n",
              "       [ 1.24194429],\n",
              "       [ 0.87731003],\n",
              "       [-0.94586127],\n",
              "       [-1.67512979],\n",
              "       [-1.67512979],\n",
              "       [ 0.14804151],\n",
              "       [ 1.24194429],\n",
              "       [-0.21659275],\n",
              "       [ 1.60657855],\n",
              "       [ 0.51267577],\n",
              "       [ 0.14804151],\n",
              "       [-1.31049553],\n",
              "       [-0.94586127],\n",
              "       [ 1.60657855],\n",
              "       [ 1.24194429],\n",
              "       [-1.67512979],\n",
              "       [ 0.14804151],\n",
              "       [-1.67512979],\n",
              "       [ 1.60657855],\n",
              "       [ 1.60657855],\n",
              "       [-0.21659275],\n",
              "       [-0.58122701],\n",
              "       [ 0.51267577],\n",
              "       [-0.94586127],\n",
              "       [-0.58122701],\n",
              "       [ 1.24194429],\n",
              "       [-0.94586127],\n",
              "       [ 0.87731003],\n",
              "       [-1.31049553],\n",
              "       [ 0.51267577],\n",
              "       [-0.58122701],\n",
              "       [-0.21659275],\n",
              "       [ 0.14804151],\n",
              "       [-0.21659275],\n",
              "       [ 1.24194429],\n",
              "       [-0.58122701],\n",
              "       [-0.94586127],\n",
              "       [ 1.60657855],\n",
              "       [-0.21659275],\n",
              "       [ 1.24194429],\n",
              "       [-1.31049553],\n",
              "       [ 0.14804151],\n",
              "       [-1.67512979],\n",
              "       [ 1.60657855],\n",
              "       [-0.21659275],\n",
              "       [ 0.14804151],\n",
              "       [ 1.60657855],\n",
              "       [-0.21659275],\n",
              "       [ 0.14804151],\n",
              "       [-0.21659275],\n",
              "       [ 0.14804151],\n",
              "       [-0.94586127],\n",
              "       [-0.58122701],\n",
              "       [-0.21659275],\n",
              "       [ 0.14804151],\n",
              "       [ 1.60657855],\n",
              "       [ 1.24194429],\n",
              "       [ 1.24194429],\n",
              "       [-0.94586127],\n",
              "       [-0.21659275],\n",
              "       [ 1.60657855],\n",
              "       [ 0.51267577],\n",
              "       [-1.67512979],\n",
              "       [ 0.87731003],\n",
              "       [-0.94586127],\n",
              "       [-1.31049553],\n",
              "       [-1.67512979],\n",
              "       [-0.94586127],\n",
              "       [-1.67512979],\n",
              "       [-0.94586127],\n",
              "       [-1.67512979],\n",
              "       [ 1.24194429],\n",
              "       [-1.31049553],\n",
              "       [-0.21659275],\n",
              "       [-0.58122701],\n",
              "       [-1.31049553],\n",
              "       [ 0.87731003],\n",
              "       [-0.21659275],\n",
              "       [ 1.24194429],\n",
              "       [ 0.51267577],\n",
              "       [ 1.24194429],\n",
              "       [-1.67512979],\n",
              "       [-0.21659275],\n",
              "       [-1.31049553],\n",
              "       [ 0.14804151],\n",
              "       [ 1.24194429],\n",
              "       [-0.58122701],\n",
              "       [ 0.14804151],\n",
              "       [ 1.24194429],\n",
              "       [ 1.60657855],\n",
              "       [-1.31049553],\n",
              "       [-0.21659275],\n",
              "       [ 0.14804151],\n",
              "       [ 0.14804151],\n",
              "       [ 0.14804151],\n",
              "       [-0.58122701],\n",
              "       [-1.31049553],\n",
              "       [-0.58122701],\n",
              "       [ 0.87731003],\n",
              "       [-1.67512979],\n",
              "       [ 0.51267577],\n",
              "       [ 1.24194429],\n",
              "       [-0.21659275],\n",
              "       [ 0.51267577],\n",
              "       [ 0.51267577],\n",
              "       [-1.67512979],\n",
              "       [ 1.24194429],\n",
              "       [ 1.60657855],\n",
              "       [-1.67512979],\n",
              "       [ 0.51267577],\n",
              "       [-0.21659275],\n",
              "       [ 0.51267577],\n",
              "       [-0.94586127],\n",
              "       [ 1.60657855],\n",
              "       [-1.31049553],\n",
              "       [-0.94586127],\n",
              "       [-0.94586127],\n",
              "       [ 0.87731003],\n",
              "       [-0.21659275],\n",
              "       [ 0.14804151],\n",
              "       [ 0.51267577],\n",
              "       [ 1.60657855],\n",
              "       [-0.21659275],\n",
              "       [-1.31049553],\n",
              "       [ 1.24194429],\n",
              "       [ 0.14804151],\n",
              "       [-0.58122701],\n",
              "       [-0.94586127],\n",
              "       [ 1.60657855],\n",
              "       [-1.31049553],\n",
              "       [-0.58122701],\n",
              "       [ 1.24194429],\n",
              "       [-0.58122701],\n",
              "       [-1.31049553],\n",
              "       [-1.67512979],\n",
              "       [-0.21659275],\n",
              "       [ 1.24194429],\n",
              "       [ 1.60657855],\n",
              "       [ 1.24194429],\n",
              "       [ 0.51267577],\n",
              "       [ 0.51267577],\n",
              "       [-1.67512979],\n",
              "       [-1.67512979],\n",
              "       [ 0.14804151],\n",
              "       [-0.21659275],\n",
              "       [-1.31049553],\n",
              "       [-0.21659275],\n",
              "       [-0.58122701],\n",
              "       [-0.21659275],\n",
              "       [-1.67512979],\n",
              "       [ 0.87731003],\n",
              "       [-0.58122701],\n",
              "       [-1.67512979],\n",
              "       [-0.94586127],\n",
              "       [-0.94586127],\n",
              "       [-1.67512979],\n",
              "       [ 0.87731003],\n",
              "       [ 0.87731003],\n",
              "       [-1.31049553],\n",
              "       [ 0.14804151],\n",
              "       [-0.58122701],\n",
              "       [-1.67512979],\n",
              "       [ 0.51267577],\n",
              "       [ 1.60657855],\n",
              "       [ 1.60657855],\n",
              "       [-0.21659275],\n",
              "       [ 0.51267577],\n",
              "       [-1.67512979],\n",
              "       [ 0.87731003],\n",
              "       [-0.58122701],\n",
              "       [-0.94586127],\n",
              "       [ 1.24194429],\n",
              "       [ 0.51267577],\n",
              "       [-0.21659275],\n",
              "       [ 1.60657855],\n",
              "       [ 0.87731003],\n",
              "       [-1.31049553],\n",
              "       [-0.21659275],\n",
              "       [-0.21659275],\n",
              "       [-1.31049553],\n",
              "       [-1.67512979],\n",
              "       [-0.21659275],\n",
              "       [-1.67512979],\n",
              "       [-0.58122701],\n",
              "       [ 0.87731003],\n",
              "       [ 1.24194429],\n",
              "       [-1.67512979],\n",
              "       [ 1.24194429],\n",
              "       [ 0.51267577],\n",
              "       [ 0.87731003],\n",
              "       [ 0.51267577],\n",
              "       [-1.67512979],\n",
              "       [ 1.24194429],\n",
              "       [ 0.87731003],\n",
              "       [-0.21659275],\n",
              "       [-1.31049553],\n",
              "       [ 0.14804151],\n",
              "       [ 1.24194429],\n",
              "       [ 0.51267577],\n",
              "       [-0.94586127],\n",
              "       [ 0.51267577],\n",
              "       [-0.94586127],\n",
              "       [-1.67512979],\n",
              "       [-1.31049553],\n",
              "       [ 0.51267577],\n",
              "       [-0.94586127],\n",
              "       [ 0.51267577],\n",
              "       [-0.58122701],\n",
              "       [-0.58122701],\n",
              "       [ 0.87731003],\n",
              "       [-0.21659275],\n",
              "       [-0.58122701],\n",
              "       [ 0.14804151],\n",
              "       [ 0.87731003],\n",
              "       [ 1.60657855],\n",
              "       [ 0.87731003],\n",
              "       [-1.31049553],\n",
              "       [-0.21659275],\n",
              "       [-1.67512979],\n",
              "       [-0.94586127],\n",
              "       [-0.58122701],\n",
              "       [-0.21659275],\n",
              "       [-0.21659275],\n",
              "       [-1.67512979],\n",
              "       [-0.58122701],\n",
              "       [ 0.14804151],\n",
              "       [ 0.51267577],\n",
              "       [ 1.24194429],\n",
              "       [-0.21659275],\n",
              "       [ 0.51267577],\n",
              "       [ 0.87731003],\n",
              "       [ 1.24194429],\n",
              "       [ 0.87731003],\n",
              "       [ 1.60657855],\n",
              "       [ 0.51267577],\n",
              "       [ 1.60657855],\n",
              "       [ 0.87731003]])"
            ]
          },
          "metadata": {},
          "execution_count": 45
        }
      ]
    },
    {
      "cell_type": "code",
      "metadata": {
        "id": "Q-TdaM01by5S",
        "colab": {
          "base_uri": "https://localhost:8080/"
        },
        "outputId": "9193ef7f-8ff6-4e4b-b0d1-ce89b14493da"
      },
      "source": [
        "print(v_1_scaled.max())\n",
        "print(v_1_scaled.min())\n",
        "\n",
        "print(v_2_scaled.max())\n",
        "print(v_2_scaled.min())"
      ],
      "execution_count": null,
      "outputs": [
        {
          "output_type": "stream",
          "name": "stdout",
          "text": [
            "1.9105946065283859\n",
            "-1.719434856773258\n",
            "1.6065785472356562\n",
            "-1.6751297880164788\n"
          ]
        }
      ]
    },
    {
      "cell_type": "code",
      "metadata": {
        "id": "6UC4SNUdXIru",
        "colab": {
          "base_uri": "https://localhost:8080/"
        },
        "outputId": "d2aaf508-b42d-4c9f-fe93-51c5abf56181"
      },
      "source": [
        "# fit-transform сразу обучается и преобразует данные\n",
        "X_scaled = scaler.fit_transform(X)\n",
        "X_scaled"
      ],
      "execution_count": null,
      "outputs": [
        {
          "output_type": "execute_result",
          "data": {
            "text/plain": [
              "array([[-2.71714530e+00,  4.58541571e-01],\n",
              "       [ 9.29174873e-01, -1.37316841e+00],\n",
              "       [-3.57530952e-01, -2.42316059e+00],\n",
              "       [ 2.23648422e-01, -1.76787399e-01],\n",
              "       [ 4.02796608e-01,  3.21643967e-01],\n",
              "       [ 6.32165322e-01, -1.27290388e+00],\n",
              "       [ 1.40321220e+00, -4.73750293e-01],\n",
              "       [ 1.14804646e+00,  4.46526539e-02],\n",
              "       [ 2.33190341e-01, -2.44431749e-01],\n",
              "       [ 1.20092325e+00,  6.58170857e-01],\n",
              "       [ 1.11928415e+00, -3.32327819e-01],\n",
              "       [-2.58519113e-01,  5.80661088e-03],\n",
              "       [ 1.38611838e+00, -2.16442093e+00],\n",
              "       [-5.95589152e-01, -1.38988111e+00],\n",
              "       [ 1.30544430e+00, -4.57650142e-01],\n",
              "       [ 6.04862992e-01, -3.43695556e-01],\n",
              "       [-6.35900899e-01,  8.13999778e-01],\n",
              "       [-3.46003971e-01,  4.86520036e-01],\n",
              "       [-1.69021411e-01,  1.00735953e-02],\n",
              "       [-5.21061270e-01, -9.53473329e-02],\n",
              "       [-1.35290946e+00,  7.13766538e-01],\n",
              "       [ 1.11373888e-02,  2.68098358e+00],\n",
              "       [-1.40605064e+00, -2.97433861e-01],\n",
              "       [-3.41357006e-02,  5.31200110e-01],\n",
              "       [-7.09208897e-01,  2.39128499e-01],\n",
              "       [ 6.55329189e-01,  1.44050045e-01],\n",
              "       [ 5.80740056e-01, -4.49989973e-01],\n",
              "       [-4.72036111e-01, -2.44672412e-01],\n",
              "       [ 6.82367394e-01, -2.14903522e+00],\n",
              "       [-1.72551589e+00, -7.16858593e-01],\n",
              "       [ 7.57559965e-01, -3.85922989e-01],\n",
              "       [-7.01134497e-01,  1.12601644e+00],\n",
              "       [ 8.25469645e-01,  4.18478334e-01],\n",
              "       [-8.77613695e-01,  4.22535644e-01],\n",
              "       [ 3.49527049e-01,  2.34062005e+00],\n",
              "       [-8.63459488e-01, -1.28947259e+00],\n",
              "       [ 9.90840741e-02,  7.92542286e-01],\n",
              "       [-2.65175493e-01, -2.13160657e+00],\n",
              "       [-6.56876176e-01, -1.59371545e+00],\n",
              "       [-1.06685953e+00, -5.76826822e-02],\n",
              "       [-4.85755672e-01, -4.44172642e-01],\n",
              "       [-1.51528984e+00,  1.61450951e-01],\n",
              "       [ 6.08549051e-01, -5.29014873e-01],\n",
              "       [-1.32327065e+00, -6.31552415e-01],\n",
              "       [-1.95080275e+00,  9.10768285e-01],\n",
              "       [ 2.55750560e-01,  6.25569845e-01],\n",
              "       [-2.53948028e-01, -6.04706224e-01],\n",
              "       [-8.12876370e-01,  1.99856011e-01],\n",
              "       [ 1.67699194e+00,  4.66806345e-01],\n",
              "       [-7.25278242e-01, -9.37351353e-01],\n",
              "       [ 6.46454728e-01,  1.38764826e+00],\n",
              "       [-6.66469341e-01, -4.85160951e-01],\n",
              "       [ 1.00110633e+00, -5.08443081e-01],\n",
              "       [ 5.31073536e-01,  1.43934979e+00],\n",
              "       [ 1.26316437e+00,  9.72922401e-02],\n",
              "       [ 8.06492065e-01,  7.86900525e-01],\n",
              "       [ 9.88039602e-01, -1.00501330e+00],\n",
              "       [-8.49048452e-01, -7.35060614e-02],\n",
              "       [-6.20573475e-01, -1.84698681e+00],\n",
              "       [-4.41668955e-01, -1.84438200e+00],\n",
              "       [ 5.05042580e-01, -7.35212682e-01],\n",
              "       [-2.40551172e-01,  1.49118687e-01],\n",
              "       [ 5.51017771e-03, -1.50744129e+00],\n",
              "       [ 1.77650522e+00,  3.53867593e+00],\n",
              "       [-1.60863585e+00, -1.87461692e+00],\n",
              "       [ 5.78783667e-01, -6.02099256e-01],\n",
              "       [-1.19296100e+00,  1.09161081e-01],\n",
              "       [ 1.24241634e+00, -1.58034836e+00],\n",
              "       [ 1.42471337e+00,  1.10667666e+00],\n",
              "       [-1.63297207e+00,  4.90198139e-01],\n",
              "       [ 1.12180105e-01, -2.95584857e-01],\n",
              "       [ 7.54833208e-02, -2.08110221e-01],\n",
              "       [ 1.27125245e+00, -5.76954595e-01],\n",
              "       [-7.23303907e-01, -2.34534836e-01],\n",
              "       [ 3.89489240e-01, -3.57093790e-01],\n",
              "       [ 6.05152098e-02,  4.76090023e-01],\n",
              "       [-2.96576985e-01, -8.66712222e-02],\n",
              "       [ 7.50081056e-01, -1.71746950e-01],\n",
              "       [ 6.65468124e-01,  1.65079960e-01],\n",
              "       [-1.92595812e+00,  3.85623705e-01],\n",
              "       [-2.69660886e-01, -7.22483885e-01],\n",
              "       [-1.56289194e+00,  2.31268994e-01],\n",
              "       [ 9.11958885e-01,  5.65063828e-02],\n",
              "       [-1.19941017e-01, -1.19387912e-01],\n",
              "       [-2.88333776e-01,  1.56016077e+00],\n",
              "       [-2.02908936e-01, -1.43774778e+00],\n",
              "       [ 8.02265730e-01, -1.10001576e+00],\n",
              "       [ 1.08112432e+00, -4.85475706e-01],\n",
              "       [-1.76240035e-01,  5.79531275e-01],\n",
              "       [ 1.20000176e+00,  3.19409805e-01],\n",
              "       [ 6.30535806e-01, -1.08760108e+00],\n",
              "       [ 4.27030396e-01, -1.25213190e+00],\n",
              "       [-4.60299428e-01,  2.15283208e+00],\n",
              "       [ 6.63735101e-01,  1.63489733e+00],\n",
              "       [-1.31089391e+00,  6.17572841e-01],\n",
              "       [ 1.07123879e+00,  5.79889189e-01],\n",
              "       [ 5.76545828e-01,  5.34643116e-01],\n",
              "       [-1.60453683e+00,  1.85997695e+00],\n",
              "       [-4.30505521e-01, -2.19084587e-01],\n",
              "       [ 3.80211104e-01, -1.15157931e-01],\n",
              "       [ 4.19902724e-01, -3.45520324e-01],\n",
              "       [-1.21200615e+00, -1.95843761e+00],\n",
              "       [-8.21459943e-01,  1.01546156e-01],\n",
              "       [-7.54668058e-01,  7.38085676e-01],\n",
              "       [ 1.08020966e+00, -3.63596851e-01],\n",
              "       [-1.03538861e+00, -1.36468737e+00],\n",
              "       [-2.00159723e+00, -1.09268340e-01],\n",
              "       [-1.66851164e+00, -1.85689441e-01],\n",
              "       [ 3.56523052e-01,  7.98116376e-01],\n",
              "       [-3.91611323e-01, -6.14378531e-02],\n",
              "       [-1.55828896e-01,  6.48350925e-01],\n",
              "       [ 8.64287404e-01, -2.04807956e+00],\n",
              "       [-1.09341463e+00,  3.00143663e-01],\n",
              "       [-7.23029113e-01, -5.50025535e-01],\n",
              "       [ 3.44477554e-01,  8.17182132e-01],\n",
              "       [ 1.64013885e+00, -1.23743939e+00],\n",
              "       [-1.29549016e+00, -7.56284578e-01],\n",
              "       [ 7.52279453e-01,  1.82638528e+00],\n",
              "       [-7.40727992e-01, -7.13686176e-01],\n",
              "       [-2.59401170e+00,  1.33219653e+00],\n",
              "       [ 1.08531954e+00,  1.80164767e-01],\n",
              "       [ 1.24467465e+00, -9.56957540e-02],\n",
              "       [ 8.86882135e-01,  9.57261839e-01],\n",
              "       [-8.35693823e-01, -9.33984589e-01],\n",
              "       [ 9.53105969e-04,  5.01231372e-01],\n",
              "       [-9.17971493e-01, -2.62393728e-01],\n",
              "       [-1.46593455e+00,  2.81483869e+00],\n",
              "       [ 8.10307409e-02,  2.89748149e-01],\n",
              "       [-9.32787459e-01, -1.30969745e+00],\n",
              "       [ 1.33147262e+00, -5.03362126e-01],\n",
              "       [-5.40900009e-01,  4.45797804e-01],\n",
              "       [-1.08957851e-01,  1.40803682e+00],\n",
              "       [-1.93776578e-01,  1.21686935e+00],\n",
              "       [-6.50748384e-01,  5.68148779e-01],\n",
              "       [ 2.52203787e+00,  1.47706219e+00],\n",
              "       [-1.73889841e-01, -6.93228541e-01],\n",
              "       [-4.28151680e-01, -1.18585574e+00],\n",
              "       [-4.79226351e-01,  1.71470403e+00],\n",
              "       [ 9.60966055e-01, -2.83413341e-01],\n",
              "       [ 5.16469911e-01,  1.06593691e-01],\n",
              "       [-3.06664682e-01,  6.38362863e-01],\n",
              "       [-1.07353577e-01,  9.33007420e-01],\n",
              "       [ 1.92412028e+00,  1.31071542e+00],\n",
              "       [ 1.33667757e+00,  1.09800552e+00],\n",
              "       [-3.92419347e-01, -1.18290664e-01],\n",
              "       [ 4.67340047e-01, -3.58006241e-01],\n",
              "       [ 4.36193080e-01,  5.32533212e-01],\n",
              "       [ 1.03518622e+00,  8.06638504e-01],\n",
              "       [-2.17106405e+00, -2.84803018e-01],\n",
              "       [ 7.13665313e-01, -1.45623360e+00],\n",
              "       [ 8.37339345e-01,  1.60024950e-01],\n",
              "       [ 1.00475986e+00,  4.91318195e-01],\n",
              "       [-7.19717277e-01, -3.63102679e-01],\n",
              "       [-1.28822659e+00, -6.11898591e-01],\n",
              "       [ 1.90658526e+00, -5.36943567e-01],\n",
              "       [ 1.48176551e+00, -9.27206063e-01],\n",
              "       [-3.13766781e-01,  2.55901206e+00],\n",
              "       [ 4.41261955e-01,  1.18650445e+00],\n",
              "       [-5.17345915e-01, -9.04254174e-01],\n",
              "       [ 1.17505567e+00, -1.40845986e-03],\n",
              "       [-1.49328574e-01,  3.91250668e-01],\n",
              "       [-1.23305867e+00,  7.06773466e-01],\n",
              "       [-6.75207705e-02, -5.38182499e-01],\n",
              "       [-1.17190681e+00,  7.44882775e-01],\n",
              "       [ 1.86570995e-01,  7.26337579e-01],\n",
              "       [ 1.30393704e-01,  3.17535663e-01],\n",
              "       [-5.15577066e-01,  2.10042477e+00],\n",
              "       [-5.87516745e-02, -2.05821887e-01],\n",
              "       [ 4.28269920e-01, -1.50422733e-01],\n",
              "       [-4.10893105e-01,  5.19714255e-01],\n",
              "       [-3.98551837e-01,  1.07062673e+00],\n",
              "       [-8.95068432e-01,  1.34670284e-02],\n",
              "       [ 1.83027600e+00, -8.58699711e-02],\n",
              "       [ 8.19650275e-01,  4.19783429e-02],\n",
              "       [ 1.12862854e+00, -1.32693569e+00],\n",
              "       [ 2.62293390e-01,  1.12924734e-01],\n",
              "       [-8.45716491e-01,  9.54811099e-01],\n",
              "       [ 1.49187052e+00,  1.54042514e+00],\n",
              "       [ 8.03447142e-01, -4.52932624e-01],\n",
              "       [-1.37622749e+00,  2.12283862e-01],\n",
              "       [-1.07885868e+00, -8.46713102e-01],\n",
              "       [ 5.53614634e-01, -2.18984464e-02],\n",
              "       [-1.04199907e+00, -1.10880971e+00],\n",
              "       [ 1.36374820e+00, -5.19285695e-01],\n",
              "       [ 9.38987701e-02, -3.78592779e-01],\n",
              "       [ 1.84424552e-02, -3.38170363e-02],\n",
              "       [ 3.03106429e+00,  9.76932198e-01],\n",
              "       [ 3.80472754e-01,  1.11346304e-01],\n",
              "       [-2.37472614e+00, -1.21383814e+00],\n",
              "       [-2.12374688e-01, -1.91817604e+00],\n",
              "       [ 3.03265642e-01,  9.46444046e-01],\n",
              "       [-6.05390073e-01,  1.43478558e+00],\n",
              "       [ 1.01423652e+00, -1.21328945e+00],\n",
              "       [ 6.78622798e-01, -3.70145826e-01],\n",
              "       [-5.23846346e-01, -3.32738397e-01],\n",
              "       [-1.95770633e+00, -1.65904181e-01],\n",
              "       [ 5.27510506e-01, -1.87608559e-01],\n",
              "       [ 6.42203104e-01,  4.01080593e-01],\n",
              "       [-2.63842985e-01, -4.49787004e-01],\n",
              "       [ 1.71739315e-01, -3.25889514e-01]])"
            ]
          },
          "metadata": {},
          "execution_count": 41
        }
      ]
    },
    {
      "cell_type": "code",
      "metadata": {
        "id": "TRnNnC3kXbcr",
        "colab": {
          "base_uri": "https://localhost:8080/",
          "height": 283
        },
        "outputId": "fab63d5b-301f-4da6-b741-81d2b6071f4d"
      },
      "source": [
        "plt.scatter(X_scaled[:, 0], X_scaled[:, 1],cmap='autumn', s=60)"
      ],
      "execution_count": null,
      "outputs": [
        {
          "output_type": "execute_result",
          "data": {
            "text/plain": [
              "<matplotlib.collections.PathCollection at 0x7fa5a0da4310>"
            ]
          },
          "metadata": {},
          "execution_count": 42
        },
        {
          "output_type": "display_data",
          "data": {
            "text/plain": [
              "<Figure size 432x288 with 1 Axes>"
            ],
            "image/png": "[encoded data removed]"
          },
          "metadata": {
            "needs_background": "light"
          }
        }
      ]
    },
    {
      "cell_type": "code",
      "metadata": {
        "id": "XftqUwUlYLIj"
      },
      "source": [
        "from sklearn.cluster import KMeans"
      ],
      "execution_count": null,
      "outputs": []
    },
    {
      "cell_type": "code",
      "metadata": {
        "id": "7PkhGAB-YN1C",
        "colab": {
          "base_uri": "https://localhost:8080/"
        },
        "outputId": "0b4626ca-cbd5-4d2b-aeb9-c20e29130d55"
      },
      "source": [
        "# явно указываем количество кластеров\n",
        "kmeans = KMeans(n_clusters=3)\n",
        "# fit_predict обучается на данных и каждому объекту присваивает кластер\n",
        "clusters = kmeans.fit_predict(X_scaled)\n",
        "clusters"
      ],
      "execution_count": null,
      "outputs": [
        {
          "output_type": "execute_result",
          "data": {
            "text/plain": [
              "array([0, 1, 0, 1, 2, 1, 1, 1, 1, 2, 1, 0, 1, 0, 1, 1, 2, 2, 0, 0, 0, 2,\n",
              "       0, 2, 0, 1, 1, 0, 1, 0, 1, 2, 1, 0, 2, 0, 2, 0, 0, 0, 0, 0, 1, 0,\n",
              "       0, 2, 0, 0, 1, 0, 2, 0, 1, 2, 1, 2, 1, 0, 0, 0, 1, 0, 1, 2, 0, 1,\n",
              "       0, 1, 2, 0, 1, 1, 1, 0, 1, 2, 0, 1, 1, 0, 0, 0, 1, 0, 2, 0, 1, 1,\n",
              "       2, 1, 1, 1, 2, 2, 0, 2, 2, 2, 0, 1, 1, 0, 0, 2, 1, 0, 0, 0, 2, 0,\n",
              "       2, 1, 0, 0, 2, 1, 0, 2, 0, 0, 1, 1, 2, 0, 2, 0, 2, 2, 0, 1, 0, 2,\n",
              "       2, 0, 2, 0, 0, 2, 1, 1, 2, 2, 2, 2, 0, 1, 2, 2, 0, 1, 1, 1, 0, 0,\n",
              "       1, 1, 2, 2, 0, 1, 2, 0, 0, 0, 2, 2, 2, 0, 1, 2, 2, 0, 1, 1, 1, 1,\n",
              "       2, 2, 1, 0, 0, 1, 0, 1, 1, 1, 1, 1, 0, 0, 2, 2, 1, 1, 0, 0, 1, 2,\n",
              "       0, 1], dtype=int32)"
            ]
          },
          "metadata": {},
          "execution_count": 50
        }
      ]
    },
    {
      "cell_type": "code",
      "metadata": {
        "id": "EIhtpQU4YXiR",
        "colab": {
          "base_uri": "https://localhost:8080/",
          "height": 283
        },
        "outputId": "0eabcb6c-f7cf-4cae-d423-90d6dfa295f2"
      },
      "source": [
        "plt.scatter(X_scaled[:, 0], X_scaled[:, 1], cmap='autumn', c=clusters, s=60)"
      ],
      "execution_count": null,
      "outputs": [
        {
          "output_type": "execute_result",
          "data": {
            "text/plain": [
              "<matplotlib.collections.PathCollection at 0x7fa59fe4b340>"
            ]
          },
          "metadata": {},
          "execution_count": 51
        },
        {
          "output_type": "display_data",
          "data": {
            "text/plain": [
              "<Figure size 432x288 with 1 Axes>"
            ],
            "image/png": "[encoded data removed]"
          },
          "metadata": {
            "needs_background": "light"
          }
        }
      ]
    },
    {
      "cell_type": "code",
      "metadata": {
        "id": "JakzZ_1WYbgI"
      },
      "source": [
        "# строим график локтя\n",
        "\n",
        "# создаем список для инерции\n",
        "k_inertia = []\n",
        "# задаем диапазон кластеров\n",
        "ks = range(1, 20)\n",
        "\n",
        "for k in ks:\n",
        "    clf_kmeans = KMeans(n_clusters=k)\n",
        "    clf_kmeans.fit(X_scaled)\n",
        "    # добавляем инерцию каждой модели в список\n",
        "    k_inertia.append(clf_kmeans.inertia_)"
      ],
      "execution_count": null,
      "outputs": []
    },
    {
      "cell_type": "code",
      "metadata": {
        "id": "BL2K84DOYzQp",
        "colab": {
          "base_uri": "https://localhost:8080/",
          "height": 297
        },
        "outputId": "4b7c1904-714b-4ba4-e267-caad48af0f20"
      },
      "source": [
        "plt.plot(ks, k_inertia)\n",
        "plt.plot(ks, k_inertia ,'ro')\n",
        "plt.xlabel('Количество кластеров')\n",
        "plt.ylabel('Инерция')"
      ],
      "execution_count": null,
      "outputs": [
        {
          "output_type": "execute_result",
          "data": {
            "text/plain": [
              "Text(0, 0.5, 'Инерция')"
            ]
          },
          "metadata": {},
          "execution_count": 63
        },
        {
          "output_type": "display_data",
          "data": {
            "text/plain": [
              "<Figure size 432x288 with 1 Axes>"
            ],
            "image/png": "[encoded data removed]"
          },
          "metadata": {
            "needs_background": "light"
          }
        }
      ]
    },
    {
      "cell_type": "markdown",
      "metadata": {
        "id": "07VGmeIrby5U"
      },
      "source": [
        "Иерархическая кластеризация"
      ]
    },
    {
      "cell_type": "code",
      "metadata": {
        "id": "wGWt37snY1ak"
      },
      "source": [
        "from scipy.spatial.distance import pdist\n",
        "from scipy.cluster import hierarchy"
      ],
      "execution_count": null,
      "outputs": []
    },
    {
      "cell_type": "code",
      "metadata": {
        "id": "UL2QOOH_Y8vL",
        "colab": {
          "base_uri": "https://localhost:8080/",
          "height": 537
        },
        "outputId": "de242f30-8c1f-4ccd-a5d6-25170f2a6f7c"
      },
      "source": [
        "# строим дендрограмму\n",
        "distance_mat = pdist(X_scaled) # pdist посчитает нам матрицу попарных расстояний между точками\n",
        "# Z = hierarchy.linkage(distance_mat) # linkage — реализация агломеративного алгоритма\n",
        "Z = hierarchy.linkage(distance_mat, 'ward')\n",
        "plt.figure(figsize=(20, 9))\n",
        "dn = hierarchy.dendrogram(Z)"
      ],
      "execution_count": null,
      "outputs": [
        {
          "output_type": "display_data",
          "data": {
            "text/plain": [
              "<Figure size 1440x648 with 1 Axes>"
            ],
            "image/png": "[encoded data removed]"
          },
          "metadata": {
            "needs_background": "light"
          }
        }
      ]
    },
    {
      "cell_type": "code",
      "metadata": {
        "id": "K_0ejaBzZBIv"
      },
      "source": [
        "# делаем уже кластеризацию по факту\n",
        "from sklearn.cluster import AgglomerativeClustering"
      ],
      "execution_count": null,
      "outputs": []
    },
    {
      "cell_type": "code",
      "metadata": {
        "id": "wjEgXrmpZVrY",
        "colab": {
          "base_uri": "https://localhost:8080/"
        },
        "outputId": "b6cd99d5-1a7a-4e86-dac9-47e4753c2f11"
      },
      "source": [
        "aglo = AgglomerativeClustering(n_clusters=3)\n",
        "clusters = aglo.fit_predict(X_scaled)\n",
        "clusters"
      ],
      "execution_count": null,
      "outputs": [
        {
          "output_type": "execute_result",
          "data": {
            "text/plain": [
              "array([0, 2, 0, 2, 2, 2, 2, 2, 2, 2, 2, 0, 2, 0, 2, 2, 0, 0, 0, 0, 0, 1,\n",
              "       0, 0, 0, 2, 2, 0, 2, 0, 2, 0, 2, 0, 1, 0, 0, 0, 0, 0, 0, 0, 2, 0,\n",
              "       0, 0, 0, 0, 2, 0, 1, 0, 2, 1, 2, 2, 2, 0, 0, 0, 2, 0, 0, 1, 0, 2,\n",
              "       0, 2, 1, 0, 2, 2, 2, 0, 2, 0, 0, 2, 2, 0, 0, 0, 2, 0, 1, 0, 2, 2,\n",
              "       0, 2, 2, 2, 1, 1, 0, 2, 2, 1, 0, 2, 2, 0, 0, 0, 2, 0, 0, 0, 0, 0,\n",
              "       0, 2, 0, 0, 0, 2, 0, 1, 0, 0, 2, 2, 2, 0, 0, 0, 1, 0, 0, 2, 0, 0,\n",
              "       0, 0, 1, 0, 0, 1, 2, 2, 0, 0, 1, 1, 0, 2, 2, 2, 0, 2, 2, 2, 0, 0,\n",
              "       2, 2, 1, 1, 0, 2, 0, 0, 0, 0, 0, 0, 1, 0, 2, 0, 0, 0, 2, 2, 2, 2,\n",
              "       0, 1, 2, 0, 0, 2, 0, 2, 2, 0, 1, 2, 0, 0, 0, 1, 2, 2, 0, 0, 2, 2,\n",
              "       0, 2])"
            ]
          },
          "metadata": {},
          "execution_count": 59
        }
      ]
    },
    {
      "cell_type": "code",
      "metadata": {
        "id": "Us0SDSD1ZtX7",
        "colab": {
          "base_uri": "https://localhost:8080/",
          "height": 531
        },
        "outputId": "40045d40-79ad-4725-ee01-7a42ac4f512d"
      },
      "source": [
        "plt.scatter(X_scaled[:, 0], X_scaled[:, 1],cmap='autumn', c=clusters, s=60)"
      ],
      "execution_count": null,
      "outputs": [
        {
          "output_type": "display_data",
          "data": {
            "text/plain": [
              "<Figure size 432x288 with 1 Axes>"
            ],
            "image/png": "[encoded data removed]"
          },
          "metadata": {
            "needs_background": "light"
          }
        },
        {
          "output_type": "execute_result",
          "data": {
            "text/plain": [
              "<matplotlib.collections.PathCollection at 0x7fa59c03e520>"
            ]
          },
          "metadata": {},
          "execution_count": 65
        },
        {
          "output_type": "display_data",
          "data": {
            "text/plain": [
              "<Figure size 432x288 with 1 Axes>"
            ],
            "image/png": "[encoded data removed]"
          },
          "metadata": {
            "needs_background": "light"
          }
        }
      ]
    },
    {
      "cell_type": "code",
      "metadata": {
        "id": "tPUIlJOaZv5J",
        "colab": {
          "base_uri": "https://localhost:8080/",
          "height": 424
        },
        "outputId": "14a20477-afe5-41fd-b462-8bfc8757c337"
      },
      "source": [
        "df = pd.DataFrame(X)\n",
        "df['y_hat'] = clusters\n",
        "df"
      ],
      "execution_count": null,
      "outputs": [
        {
          "output_type": "execute_result",
          "data": {
            "text/plain": [
              "            0         1  y_hat\n",
              "0   -6.116517  5.231113      0\n",
              "1    5.319745  0.554770      2\n",
              "2    1.284141 -2.125853      0\n",
              "3    3.106943  3.609123      2\n",
              "4    3.668821  4.881614      2\n",
              "..        ...       ...    ...\n",
              "195 -3.734624  3.636907      0\n",
              "196  4.059971  3.581496      2\n",
              "197  4.419691  5.084416      2\n",
              "198  1.577982  2.912156      0\n",
              "199  2.944136  3.228466      2\n",
              "\n",
              "[200 rows x 3 columns]"
            ],
            "text/html": [
              "\n",
              "  <div id=\"df-2e71bd28-fe4d-4224-b562-dcd40de40b9e\">\n",
              "    <div class=\"colab-df-container\">\n",
              "      <div>\n",
              "<style scoped>\n",
              "    .dataframe tbody tr th:only-of-type {\n",
              "        vertical-align: middle;\n",
              "    }\n",
              "\n",
              "    .dataframe tbody tr th {\n",
              "        vertical-align: top;\n",
              "    }\n",
              "\n",
              "    .dataframe thead th {\n",
              "        text-align: right;\n",
              "    }\n",
              "</style>\n",
              "<table border=\"1\" class=\"dataframe\">\n",
              "  <thead>\n",
              "    <tr style=\"text-align: right;\">\n",
              "      <th></th>\n",
              "      <th>0</th>\n",
              "      <th>1</th>\n",
              "      <th>y_hat</th>\n",
              "    </tr>\n",
              "  </thead>\n",
              "  <tbody>\n",
              "    <tr>\n",
              "      <th>0</th>\n",
              "      <td>-6.116517</td>\n",
              "      <td>5.231113</td>\n",
              "      <td>0</td>\n",
              "    </tr>\n",
              "    <tr>\n",
              "      <th>1</th>\n",
              "      <td>5.319745</td>\n",
              "      <td>0.554770</td>\n",
              "      <td>2</td>\n",
              "    </tr>\n",
              "    <tr>\n",
              "      <th>2</th>\n",
              "      <td>1.284141</td>\n",
              "      <td>-2.125853</td>\n",
              "      <td>0</td>\n",
              "    </tr>\n",
              "    <tr>\n",
              "      <th>3</th>\n",
              "      <td>3.106943</td>\n",
              "      <td>3.609123</td>\n",
              "      <td>2</td>\n",
              "    </tr>\n",
              "    <tr>\n",
              "      <th>4</th>\n",
              "      <td>3.668821</td>\n",
              "      <td>4.881614</td>\n",
              "      <td>2</td>\n",
              "    </tr>\n",
              "    <tr>\n",
              "      <th>...</th>\n",
              "      <td>...</td>\n",
              "      <td>...</td>\n",
              "      <td>...</td>\n",
              "    </tr>\n",
              "    <tr>\n",
              "      <th>195</th>\n",
              "      <td>-3.734624</td>\n",
              "      <td>3.636907</td>\n",
              "      <td>0</td>\n",
              "    </tr>\n",
              "    <tr>\n",
              "      <th>196</th>\n",
              "      <td>4.059971</td>\n",
              "      <td>3.581496</td>\n",
              "      <td>2</td>\n",
              "    </tr>\n",
              "    <tr>\n",
              "      <th>197</th>\n",
              "      <td>4.419691</td>\n",
              "      <td>5.084416</td>\n",
              "      <td>2</td>\n",
              "    </tr>\n",
              "    <tr>\n",
              "      <th>198</th>\n",
              "      <td>1.577982</td>\n",
              "      <td>2.912156</td>\n",
              "      <td>0</td>\n",
              "    </tr>\n",
              "    <tr>\n",
              "      <th>199</th>\n",
              "      <td>2.944136</td>\n",
              "      <td>3.228466</td>\n",
              "      <td>2</td>\n",
              "    </tr>\n",
              "  </tbody>\n",
              "</table>\n",
              "<p>200 rows × 3 columns</p>\n",
              "</div>\n",
              "      <button class=\"colab-df-convert\" onclick=\"convertToInteractive('df-2e71bd28-fe4d-4224-b562-dcd40de40b9e')\"\n",
              "              title=\"Convert this dataframe to an interactive table.\"\n",
              "              style=\"display:none;\">\n",
              "        \n",
              "  <svg xmlns=\"http://www.w3.org/2000/svg\" height=\"24px\"viewBox=\"0 0 24 24\"\n",
              "       width=\"24px\">\n",
              "    <path d=\"M0 0h24v24H0V0z\" fill=\"none\"/>\n",
              "    <path d=\"M18.56 5.44l.94 2.06.94-2.06 2.06-.94-2.06-.94-.94-2.06-.94 2.06-2.06.94zm-11 1L8.5 8.5l.94-2.06 2.06-.94-2.06-.94L8.5 2.5l-.94 2.06-2.06.94zm10 10l.94 2.06.94-2.06 2.06-.94-2.06-.94-.94-2.06-.94 2.06-2.06.94z\"/><path d=\"M17.41 7.96l-1.37-1.37c-.4-.4-.92-.59-1.43-.59-.52 0-1.04.2-1.43.59L10.3 9.45l-7.72 7.72c-.78.78-.78 2.05 0 2.83L4 21.41c.39.39.9.59 1.41.59.51 0 1.02-.2 1.41-.59l7.78-7.78 2.81-2.81c.8-.78.8-2.07 0-2.86zM5.41 20L4 18.59l7.72-7.72 1.47 1.35L5.41 20z\"/>\n",
              "  </svg>\n",
              "      </button>\n",
              "      \n",
              "  <style>\n",
              "    .colab-df-container {\n",
              "      display:flex;\n",
              "      flex-wrap:wrap;\n",
              "      gap: 12px;\n",
              "    }\n",
              "\n",
              "    .colab-df-convert {\n",
              "      background-color: #E8F0FE;\n",
              "      border: none;\n",
              "      border-radius: 50%;\n",
              "      cursor: pointer;\n",
              "      display: none;\n",
              "      fill: #1967D2;\n",
              "      height: 32px;\n",
              "      padding: 0 0 0 0;\n",
              "      width: 32px;\n",
              "    }\n",
              "\n",
              "    .colab-df-convert:hover {\n",
              "      background-color: #E2EBFA;\n",
              "      box-shadow: 0px 1px 2px rgba(60, 64, 67, 0.3), 0px 1px 3px 1px rgba(60, 64, 67, 0.15);\n",
              "      fill: #174EA6;\n",
              "    }\n",
              "\n",
              "    [theme=dark] .colab-df-convert {\n",
              "      background-color: #3B4455;\n",
              "      fill: #D2E3FC;\n",
              "    }\n",
              "\n",
              "    [theme=dark] .colab-df-convert:hover {\n",
              "      background-color: #434B5C;\n",
              "      box-shadow: 0px 1px 3px 1px rgba(0, 0, 0, 0.15);\n",
              "      filter: drop-shadow(0px 1px 2px rgba(0, 0, 0, 0.3));\n",
              "      fill: #FFFFFF;\n",
              "    }\n",
              "  </style>\n",
              "\n",
              "      <script>\n",
              "        const buttonEl =\n",
              "          document.querySelector('#df-2e71bd28-fe4d-4224-b562-dcd40de40b9e button.colab-df-convert');\n",
              "        buttonEl.style.display =\n",
              "          google.colab.kernel.accessAllowed ? 'block' : 'none';\n",
              "\n",
              "        async function convertToInteractive(key) {\n",
              "          const element = document.querySelector('#df-2e71bd28-fe4d-4224-b562-dcd40de40b9e');\n",
              "          const dataTable =\n",
              "            await google.colab.kernel.invokeFunction('convertToInteractive',\n",
              "                                                     [key], {});\n",
              "          if (!dataTable) return;\n",
              "\n",
              "          const docLinkHtml = 'Like what you see? Visit the ' +\n",
              "            '<a target=\"_blank\" href=https://colab.research.google.com/notebooks/data_table.ipynb>data table notebook</a>'\n",
              "            + ' to learn more about interactive tables.';\n",
              "          element.innerHTML = '';\n",
              "          dataTable['output_type'] = 'display_data';\n",
              "          await google.colab.output.renderOutput(dataTable, element);\n",
              "          const docLink = document.createElement('div');\n",
              "          docLink.innerHTML = docLinkHtml;\n",
              "          element.appendChild(docLink);\n",
              "        }\n",
              "      </script>\n",
              "    </div>\n",
              "  </div>\n",
              "  "
            ]
          },
          "metadata": {},
          "execution_count": 61
        }
      ]
    },
    {
      "cell_type": "code",
      "metadata": {
        "id": "CBOo1CERby5W"
      },
      "source": [],
      "execution_count": null,
      "outputs": []
    }
  ]
}